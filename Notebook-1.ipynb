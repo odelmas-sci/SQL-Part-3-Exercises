{
    "metadata": {
        "kernelspec": {
            "name": "SQL",
            "display_name": "SQL",
            "language": "sql"
        },
        "language_info": {
            "name": "sql",
            "version": ""
        },
        "extensions": {
            "azuredatastudio": {
                "version": 1,
                "views": []
            }
        }
    },
    "nbformat_minor": 2,
    "nbformat": 4,
    "cells": [
        {
            "cell_type": "markdown",
            "source": [
                "# SQL Part 3 Exercises Joins\n",
                "\n",
                "This notebook works with the BooksDB dataset.  \n",
                "\n",
                "**Questions 1-4** focus on how joins work in a more general sense.  If you are not sure how to best answer the questions, try manipulating the queries by changing the order of joins, the length of the TOP, or how they are ordered.  \n",
                "\n",
                "> <span style=\"background-color: rgba(127, 127, 127, 0.1);\"><i>Note</i>: If some of the queries are not returning quickly, you can try closing and restarting azure data studio after a few minutes.</span>\n",
                "\n",
                "In **questions 5-8**, you will be asked to join tables to find results about titles, tags, and the books users want to read.\n",
                "\n",
                "As you go through the questions, you will see 'Minimum Desired Output'.  This will provide you with the bare minimum columns needed to answer the questions.  When you write the queries, add as many additional columns as you need to best find your answers."
            ],
            "metadata": {
                "azdata_cell_guid": "db9534a9-c8a7-4c09-8180-bcba0690bb02"
            },
            "attachments": {}
        },
        {
            "cell_type": "markdown",
            "source": [
                "## **QUESTION 1:**  Exploring a LEFT JOIN using the **books** and **to\\_read** tables\n",
                "\n",
                "The code block below has been commented out. To answer this question, you will need to uncomment it by removing the **/\\*** (line 1) and **\\*/** (line 16).\n",
                "\n",
                "**Part A:** Look at Query 1, which table is the 'Left' table and which is the 'Right'?\n",
                "\n",
                "> Your Answer:  Left table: books, Right table: to\\_read\n",
                "\n",
                "**Part B:** Using table 2, answer the following questions: \n",
                "\n",
                "- When we added a  '**WHERE tr.user\\_id IS NOT NULL'** clause (line 14), how did the table change?  Why?\n",
                "\n",
                "> Your Answer: The first table shows the top 50 books (title, avg rating, count, user\\_id, book\\_id) regardless of if the user\\_id is there or not. However, the second table uses the WHERE statement to filter out the null user\\_id's of the top 50 books."
            ],
            "metadata": {
                "azdata_cell_guid": "660be568-9a70-40ff-a2fa-a78e31e87b6f"
            },
            "attachments": {}
        },
        {
            "cell_type": "code",
            "source": [
                "\n",
                "-- Query 1: LEFT JOIN \n",
                "SELECT TOP 10 b.title, b.average_rating, b.books_count,tr.user_id, tr.book_id\n",
                "FROM BooksDB.dbo.books AS b\n",
                "LEFT JOIN BooksDB.dbo.to_read AS tr\n",
                "ON b.best_book_id = tr.book_id\n",
                "ORDER BY b.average_rating;\n",
                "\n",
                "-- Query 2: LEFT JOIN USING 'IS NOT NULL'\n",
                "SELECT TOP 10 b.title, b.average_rating, b.books_count,tr.user_id, tr.book_id\n",
                "FROM BooksDB.dbo.books AS b\n",
                "LEFT JOIN BooksDB.dbo.to_read AS tr\n",
                "ON b.best_book_id = tr.book_id\n",
                "WHERE tr.user_id IS NOT NULL\n",
                "ORDER BY b.average_rating;\n",
                ""
            ],
            "metadata": {
                "azdata_cell_guid": "25dcd34c-5e5d-4393-9da0-a4c0effb6455",
                "tags": [],
                "language": "sql"
            },
            "outputs": [
                {
                    "output_type": "display_data",
                    "data": {
                        "text/html": "(10 rows affected)"
                    },
                    "metadata": {}
                },
                {
                    "output_type": "display_data",
                    "data": {
                        "text/html": "(10 rows affected)"
                    },
                    "metadata": {}
                },
                {
                    "output_type": "display_data",
                    "data": {
                        "text/html": "Total execution time: 00:00:05.171"
                    },
                    "metadata": {}
                },
                {
                    "output_type": "execute_result",
                    "metadata": {},
                    "execution_count": 2,
                    "data": {
                        "application/vnd.dataresource+json": {
                            "schema": {
                                "fields": [
                                    {
                                        "name": "title"
                                    },
                                    {
                                        "name": "average_rating"
                                    },
                                    {
                                        "name": "books_count"
                                    },
                                    {
                                        "name": "user_id"
                                    },
                                    {
                                        "name": "book_id"
                                    }
                                ]
                            },
                            "data": [
                                {
                                    "0": "One Night at the Call Center",
                                    "1": "2.47",
                                    "2": "25",
                                    "3": "NULL",
                                    "4": "NULL"
                                },
                                {
                                    "0": "The Almost Moon",
                                    "1": "2.67",
                                    "2": "63",
                                    "3": "NULL",
                                    "4": "NULL"
                                },
                                {
                                    "0": "The Finkler Question",
                                    "1": "2.76",
                                    "2": "45",
                                    "3": "NULL",
                                    "4": "NULL"
                                },
                                {
                                    "0": "Four Blondes",
                                    "1": "2.8",
                                    "2": "57",
                                    "3": "449",
                                    "4": "6613"
                                },
                                {
                                    "0": "Four Blondes",
                                    "1": "2.8",
                                    "2": "57",
                                    "3": "1378",
                                    "4": "6613"
                                },
                                {
                                    "0": "Four Blondes",
                                    "1": "2.8",
                                    "2": "57",
                                    "3": "6465",
                                    "4": "6613"
                                },
                                {
                                    "0": "Four Blondes",
                                    "1": "2.8",
                                    "2": "57",
                                    "3": "6700",
                                    "4": "6613"
                                },
                                {
                                    "0": "Four Blondes",
                                    "1": "2.8",
                                    "2": "57",
                                    "3": "7830",
                                    "4": "6613"
                                },
                                {
                                    "0": "Four Blondes",
                                    "1": "2.8",
                                    "2": "57",
                                    "3": "10085",
                                    "4": "6613"
                                },
                                {
                                    "0": "Four Blondes",
                                    "1": "2.8",
                                    "2": "57",
                                    "3": "16298",
                                    "4": "6613"
                                }
                            ]
                        },
                        "text/html": [
                            "<table>",
                            "<tr><th>title</th><th>average_rating</th><th>books_count</th><th>user_id</th><th>book_id</th></tr>",
                            "<tr><td>One Night at the Call Center</td><td>2.47</td><td>25</td><td>NULL</td><td>NULL</td></tr>",
                            "<tr><td>The Almost Moon</td><td>2.67</td><td>63</td><td>NULL</td><td>NULL</td></tr>",
                            "<tr><td>The Finkler Question</td><td>2.76</td><td>45</td><td>NULL</td><td>NULL</td></tr>",
                            "<tr><td>Four Blondes</td><td>2.8</td><td>57</td><td>449</td><td>6613</td></tr>",
                            "<tr><td>Four Blondes</td><td>2.8</td><td>57</td><td>1378</td><td>6613</td></tr>",
                            "<tr><td>Four Blondes</td><td>2.8</td><td>57</td><td>6465</td><td>6613</td></tr>",
                            "<tr><td>Four Blondes</td><td>2.8</td><td>57</td><td>6700</td><td>6613</td></tr>",
                            "<tr><td>Four Blondes</td><td>2.8</td><td>57</td><td>7830</td><td>6613</td></tr>",
                            "<tr><td>Four Blondes</td><td>2.8</td><td>57</td><td>10085</td><td>6613</td></tr>",
                            "<tr><td>Four Blondes</td><td>2.8</td><td>57</td><td>16298</td><td>6613</td></tr>",
                            "</table>"
                        ]
                    }
                },
                {
                    "output_type": "execute_result",
                    "metadata": {},
                    "execution_count": 2,
                    "data": {
                        "application/vnd.dataresource+json": {
                            "schema": {
                                "fields": [
                                    {
                                        "name": "title"
                                    },
                                    {
                                        "name": "average_rating"
                                    },
                                    {
                                        "name": "books_count"
                                    },
                                    {
                                        "name": "user_id"
                                    },
                                    {
                                        "name": "book_id"
                                    }
                                ]
                            },
                            "data": [
                                {
                                    "0": "Four Blondes",
                                    "1": "2.8",
                                    "2": "57",
                                    "3": "449",
                                    "4": "6613"
                                },
                                {
                                    "0": "Four Blondes",
                                    "1": "2.8",
                                    "2": "57",
                                    "3": "1378",
                                    "4": "6613"
                                },
                                {
                                    "0": "Four Blondes",
                                    "1": "2.8",
                                    "2": "57",
                                    "3": "6465",
                                    "4": "6613"
                                },
                                {
                                    "0": "Four Blondes",
                                    "1": "2.8",
                                    "2": "57",
                                    "3": "6700",
                                    "4": "6613"
                                },
                                {
                                    "0": "Four Blondes",
                                    "1": "2.8",
                                    "2": "57",
                                    "3": "7830",
                                    "4": "6613"
                                },
                                {
                                    "0": "Four Blondes",
                                    "1": "2.8",
                                    "2": "57",
                                    "3": "10085",
                                    "4": "6613"
                                },
                                {
                                    "0": "Four Blondes",
                                    "1": "2.8",
                                    "2": "57",
                                    "3": "16298",
                                    "4": "6613"
                                },
                                {
                                    "0": "Four Blondes",
                                    "1": "2.8",
                                    "2": "57",
                                    "3": "16845",
                                    "4": "6613"
                                },
                                {
                                    "0": "Four Blondes",
                                    "1": "2.8",
                                    "2": "57",
                                    "3": "17470",
                                    "4": "6613"
                                },
                                {
                                    "0": "Four Blondes",
                                    "1": "2.8",
                                    "2": "57",
                                    "3": "19763",
                                    "4": "6613"
                                }
                            ]
                        },
                        "text/html": [
                            "<table>",
                            "<tr><th>title</th><th>average_rating</th><th>books_count</th><th>user_id</th><th>book_id</th></tr>",
                            "<tr><td>Four Blondes</td><td>2.8</td><td>57</td><td>449</td><td>6613</td></tr>",
                            "<tr><td>Four Blondes</td><td>2.8</td><td>57</td><td>1378</td><td>6613</td></tr>",
                            "<tr><td>Four Blondes</td><td>2.8</td><td>57</td><td>6465</td><td>6613</td></tr>",
                            "<tr><td>Four Blondes</td><td>2.8</td><td>57</td><td>6700</td><td>6613</td></tr>",
                            "<tr><td>Four Blondes</td><td>2.8</td><td>57</td><td>7830</td><td>6613</td></tr>",
                            "<tr><td>Four Blondes</td><td>2.8</td><td>57</td><td>10085</td><td>6613</td></tr>",
                            "<tr><td>Four Blondes</td><td>2.8</td><td>57</td><td>16298</td><td>6613</td></tr>",
                            "<tr><td>Four Blondes</td><td>2.8</td><td>57</td><td>16845</td><td>6613</td></tr>",
                            "<tr><td>Four Blondes</td><td>2.8</td><td>57</td><td>17470</td><td>6613</td></tr>",
                            "<tr><td>Four Blondes</td><td>2.8</td><td>57</td><td>19763</td><td>6613</td></tr>",
                            "</table>"
                        ]
                    }
                }
            ],
            "execution_count": 2
        },
        {
            "cell_type": "markdown",
            "source": [
                "## **QUESTION 2:** Exploring **RIGHT** joins with the **books** and **to\\_read** tables\n",
                "\n",
                "You will need to uncomment the Query to answer the question.\n",
                "\n",
                "**Part A:** Looking at the query, which table is the 'Left' and which is the 'Right'?\n",
                "\n",
                "> Your Answer: Left if books and right is to\\_read\n",
                "\n",
                "**Part B:** How do the RIGHT-joined tables differ from the LEFT-joined tables in Question 1?  \n",
                "\n",
                "> Your Answer: Right Join is going to take all elements from the right table(to\\_read) and fill in NULL for the left table if they're missing"
            ],
            "metadata": {
                "azdata_cell_guid": "c1e417d9-89d2-4a7d-ab46-b43c8bddc54f"
            },
            "attachments": {}
        },
        {
            "cell_type": "code",
            "source": [
                "\n",
                "-- Query 1: RIGHT JOIN\n",
                "SELECT TOP 10 b.title, b.average_rating, b.books_count, tr.user_id, tr.book_id\n",
                "FROM BooksDB.dbo.books AS b\n",
                "RIGHT JOIN BooksDB.dbo.to_read AS tr\n",
                "ON b.best_book_id = tr.book_id;\n",
                ""
            ],
            "metadata": {
                "azdata_cell_guid": "8cf020b8-2a76-46a6-acff-97eb1acc7fed",
                "tags": [],
                "language": "sql"
            },
            "outputs": [
                {
                    "output_type": "display_data",
                    "data": {
                        "text/html": "(10 rows affected)"
                    },
                    "metadata": {}
                },
                {
                    "output_type": "display_data",
                    "data": {
                        "text/html": "Total execution time: 00:00:00.103"
                    },
                    "metadata": {}
                },
                {
                    "output_type": "execute_result",
                    "metadata": {},
                    "execution_count": 3,
                    "data": {
                        "application/vnd.dataresource+json": {
                            "schema": {
                                "fields": [
                                    {
                                        "name": "title"
                                    },
                                    {
                                        "name": "average_rating"
                                    },
                                    {
                                        "name": "books_count"
                                    },
                                    {
                                        "name": "user_id"
                                    },
                                    {
                                        "name": "book_id"
                                    }
                                ]
                            },
                            "data": [
                                {
                                    "0": "Children of Dune (Dune Chronicles #3)",
                                    "1": "3.9",
                                    "2": "116",
                                    "3": "1",
                                    "4": "112"
                                },
                                {
                                    "0": "NULL",
                                    "1": "NULL",
                                    "2": "NULL",
                                    "3": "1",
                                    "4": "235"
                                },
                                {
                                    "0": "NULL",
                                    "1": "NULL",
                                    "2": "NULL",
                                    "3": "1",
                                    "4": "533"
                                },
                                {
                                    "0": "NULL",
                                    "1": "NULL",
                                    "2": "NULL",
                                    "3": "1",
                                    "4": "1198"
                                },
                                {
                                    "0": "NULL",
                                    "1": "NULL",
                                    "2": "NULL",
                                    "3": "1",
                                    "4": "1874"
                                },
                                {
                                    "0": "NULL",
                                    "1": "NULL",
                                    "2": "NULL",
                                    "3": "1",
                                    "4": "2058"
                                },
                                {
                                    "0": "NULL",
                                    "1": "NULL",
                                    "2": "NULL",
                                    "3": "1",
                                    "4": "3334"
                                },
                                {
                                    "0": "NULL",
                                    "1": "NULL",
                                    "2": "NULL",
                                    "3": "2",
                                    "4": "4"
                                },
                                {
                                    "0": "NULL",
                                    "1": "NULL",
                                    "2": "NULL",
                                    "3": "2",
                                    "4": "11"
                                },
                                {
                                    "0": "The Ultimate Hitchhiker's Guide to the Galaxy",
                                    "1": "4.37",
                                    "2": "32",
                                    "3": "2",
                                    "4": "13"
                                }
                            ]
                        },
                        "text/html": [
                            "<table>",
                            "<tr><th>title</th><th>average_rating</th><th>books_count</th><th>user_id</th><th>book_id</th></tr>",
                            "<tr><td>Children of Dune (Dune Chronicles #3)</td><td>3.9</td><td>116</td><td>1</td><td>112</td></tr>",
                            "<tr><td>NULL</td><td>NULL</td><td>NULL</td><td>1</td><td>235</td></tr>",
                            "<tr><td>NULL</td><td>NULL</td><td>NULL</td><td>1</td><td>533</td></tr>",
                            "<tr><td>NULL</td><td>NULL</td><td>NULL</td><td>1</td><td>1198</td></tr>",
                            "<tr><td>NULL</td><td>NULL</td><td>NULL</td><td>1</td><td>1874</td></tr>",
                            "<tr><td>NULL</td><td>NULL</td><td>NULL</td><td>1</td><td>2058</td></tr>",
                            "<tr><td>NULL</td><td>NULL</td><td>NULL</td><td>1</td><td>3334</td></tr>",
                            "<tr><td>NULL</td><td>NULL</td><td>NULL</td><td>2</td><td>4</td></tr>",
                            "<tr><td>NULL</td><td>NULL</td><td>NULL</td><td>2</td><td>11</td></tr>",
                            "<tr><td>The Ultimate Hitchhiker's Guide to the Galaxy</td><td>4.37</td><td>32</td><td>2</td><td>13</td></tr>",
                            "</table>"
                        ]
                    }
                }
            ],
            "execution_count": 3
        },
        {
            "cell_type": "markdown",
            "source": [
                "## **QUESTION 3:** Exploring FULL JOINS with the **books** and **to\\_read** tables\n",
                "\n",
                "You will need to uncomment the Query to answer the question.\n",
                "\n",
                "**Part A:**  Look at the table and explore how it was populated.  Try manipulating the query to better understand how this table works.  Try adding a WHERE clause, or ORDER BY a column on the **books** table.  Based on your exploration, can you think of when you might want a FULL join rather than a LEFT, RIGHT, or INNER?\n",
                "\n",
                "> Your Answer: It's helpful seeing all the information, even if there are missing values in either the Left or Right tables. Using a Full Join makes it less likely that you will miss a row that could be important information."
            ],
            "metadata": {
                "azdata_cell_guid": "8f6b8f22-3e5a-4b87-a2f2-07279f1deb94"
            },
            "attachments": {}
        },
        {
            "cell_type": "code",
            "source": [
                "\n",
                "-- FULL JOIN\n",
                "SELECT TOP 10 b.title, b.average_rating, b.books_count,tr.user_id, tr.book_id\n",
                "FROM BooksDB.dbo.books AS b\n",
                "FULL JOIN BooksDB.dbo.to_read AS tr\n",
                "ON b.book_id = tr.book_id\n",
                "WHERE b.title IS NOT NULL\n",
                "ORDER BY average_rating DESC;"
            ],
            "metadata": {
                "azdata_cell_guid": "7c2a3dff-ef55-4222-aef0-7c0ab4f942eb",
                "tags": [],
                "language": "sql"
            },
            "outputs": [
                {
                    "output_type": "display_data",
                    "data": {
                        "text/html": "(10 rows affected)"
                    },
                    "metadata": {}
                },
                {
                    "output_type": "display_data",
                    "data": {
                        "text/html": "Total execution time: 00:00:02.326"
                    },
                    "metadata": {}
                },
                {
                    "output_type": "execute_result",
                    "execution_count": 113,
                    "data": {
                        "application/vnd.dataresource+json": {
                            "schema": {
                                "fields": [
                                    {
                                        "name": "title"
                                    },
                                    {
                                        "name": "average_rating"
                                    },
                                    {
                                        "name": "books_count"
                                    },
                                    {
                                        "name": "user_id"
                                    },
                                    {
                                        "name": "book_id"
                                    }
                                ]
                            },
                            "data": [
                                {
                                    "0": "The Complete Calvin and Hobbes",
                                    "1": "4.82",
                                    "2": "14",
                                    "3": "NULL",
                                    "4": "NULL"
                                },
                                {
                                    "0": "Words of Radiance (The Stormlight Archive, #2)",
                                    "1": "4.77",
                                    "2": "34",
                                    "3": "NULL",
                                    "4": "NULL"
                                },
                                {
                                    "0": "Harry Potter Boxed Set, Books 1-5 (Harry Potter, #1-5)",
                                    "1": "4.77",
                                    "2": "11",
                                    "3": "9",
                                    "4": "8"
                                },
                                {
                                    "0": "Harry Potter Boxed Set, Books 1-5 (Harry Potter, #1-5)",
                                    "1": "4.77",
                                    "2": "11",
                                    "3": "245",
                                    "4": "8"
                                },
                                {
                                    "0": "Harry Potter Boxed Set, Books 1-5 (Harry Potter, #1-5)",
                                    "1": "4.77",
                                    "2": "11",
                                    "3": "265",
                                    "4": "8"
                                },
                                {
                                    "0": "Harry Potter Boxed Set, Books 1-5 (Harry Potter, #1-5)",
                                    "1": "4.77",
                                    "2": "11",
                                    "3": "318",
                                    "4": "8"
                                },
                                {
                                    "0": "Harry Potter Boxed Set, Books 1-5 (Harry Potter, #1-5)",
                                    "1": "4.77",
                                    "2": "11",
                                    "3": "361",
                                    "4": "8"
                                },
                                {
                                    "0": "Harry Potter Boxed Set, Books 1-5 (Harry Potter, #1-5)",
                                    "1": "4.77",
                                    "2": "11",
                                    "3": "422",
                                    "4": "8"
                                },
                                {
                                    "0": "Harry Potter Boxed Set, Books 1-5 (Harry Potter, #1-5)",
                                    "1": "4.77",
                                    "2": "11",
                                    "3": "435",
                                    "4": "8"
                                },
                                {
                                    "0": "Harry Potter Boxed Set, Books 1-5 (Harry Potter, #1-5)",
                                    "1": "4.77",
                                    "2": "11",
                                    "3": "457",
                                    "4": "8"
                                }
                            ]
                        },
                        "text/html": "<table><tr><th>title</th><th>average_rating</th><th>books_count</th><th>user_id</th><th>book_id</th></tr><tr><td>The Complete Calvin and Hobbes</td><td>4.82</td><td>14</td><td>NULL</td><td>NULL</td></tr><tr><td>Words of Radiance (The Stormlight Archive, #2)</td><td>4.77</td><td>34</td><td>NULL</td><td>NULL</td></tr><tr><td>Harry Potter Boxed Set, Books 1-5 (Harry Potter, #1-5)</td><td>4.77</td><td>11</td><td>9</td><td>8</td></tr><tr><td>Harry Potter Boxed Set, Books 1-5 (Harry Potter, #1-5)</td><td>4.77</td><td>11</td><td>245</td><td>8</td></tr><tr><td>Harry Potter Boxed Set, Books 1-5 (Harry Potter, #1-5)</td><td>4.77</td><td>11</td><td>265</td><td>8</td></tr><tr><td>Harry Potter Boxed Set, Books 1-5 (Harry Potter, #1-5)</td><td>4.77</td><td>11</td><td>318</td><td>8</td></tr><tr><td>Harry Potter Boxed Set, Books 1-5 (Harry Potter, #1-5)</td><td>4.77</td><td>11</td><td>361</td><td>8</td></tr><tr><td>Harry Potter Boxed Set, Books 1-5 (Harry Potter, #1-5)</td><td>4.77</td><td>11</td><td>422</td><td>8</td></tr><tr><td>Harry Potter Boxed Set, Books 1-5 (Harry Potter, #1-5)</td><td>4.77</td><td>11</td><td>435</td><td>8</td></tr><tr><td>Harry Potter Boxed Set, Books 1-5 (Harry Potter, #1-5)</td><td>4.77</td><td>11</td><td>457</td><td>8</td></tr></table>"
                    },
                    "metadata": {}
                }
            ],
            "execution_count": 113
        },
        {
            "cell_type": "markdown",
            "source": [
                "## **QUESTION 4:** Exploring INNER Joins with the **books** and **to\\_read** tables\n",
                "\n",
                "You will need to uncomment the Query to answer the question.\n",
                "\n",
                "**Part A:**  What does an inner join do?\n",
                "\n",
                "> <span style=\"background-color: rgba(127, 127, 127, 0.1); font-family: -apple-system, BlinkMacSystemFont, sans-serif;\">Your Answer: Inner Join takes two tables' common elements and combines them into one table.&nbsp;</span> \n",
                "\n",
                "<span style=\"background-color: rgba(127, 127, 127, 0.1); font-family: -apple-system, BlinkMacSystemFont, sans-serif;\"><b>Part B:</b>&nbsp;Currently this table has an <b>'IS NOT NULL'</b> in the <b>WHERE</b> clause.&nbsp; Is this necessary for this table?&nbsp; Why or Why not?&nbsp;</span> \n",
                "\n",
                "> Your Answer: No because an inner join will not add elements to the joined table that aren't in both original tables.\n",
                "\n",
                "**Part C:**  When using SQL, you are usually returning much larger tables so every line of code will add to the compilation and return time.  Rewrite this inner join query so that it contains no redundant code.   \n",
                "\n",
                "> Your Answer:  Update the query in the code box below."
            ],
            "metadata": {
                "azdata_cell_guid": "4dab11ce-7995-4444-92dd-4cb2c0bc02c8"
            },
            "attachments": {}
        },
        {
            "cell_type": "code",
            "source": [
                "\n",
                "-- INNER JOIN\n",
                "SELECT TOP 10 b.title, b.average_rating, b.books_count,tr.user_id, tr.book_id\n",
                "FROM BooksDB.dbo.books AS b\n",
                "INNER JOIN BooksDB.dbo.to_read AS tr\n",
                "ON b.book_id = tr.book_id\n",
                "ORDER BY tr.book_id;\n",
                ""
            ],
            "metadata": {
                "azdata_cell_guid": "66d430ab-18aa-4a29-a32d-0585445e417c",
                "tags": [],
                "language": "sql"
            },
            "outputs": [
                {
                    "output_type": "display_data",
                    "data": {
                        "text/html": "(10 rows affected)"
                    },
                    "metadata": {}
                },
                {
                    "output_type": "display_data",
                    "data": {
                        "text/html": "Total execution time: 00:00:00.077"
                    },
                    "metadata": {}
                },
                {
                    "output_type": "execute_result",
                    "execution_count": 112,
                    "data": {
                        "application/vnd.dataresource+json": {
                            "schema": {
                                "fields": [
                                    {
                                        "name": "title"
                                    },
                                    {
                                        "name": "average_rating"
                                    },
                                    {
                                        "name": "books_count"
                                    },
                                    {
                                        "name": "user_id"
                                    },
                                    {
                                        "name": "book_id"
                                    }
                                ]
                            },
                            "data": [
                                {
                                    "0": "Harry Potter and the Half-Blood Prince (Harry Potter, #6)",
                                    "1": "4.54",
                                    "2": "275",
                                    "3": "12",
                                    "4": "1"
                                },
                                {
                                    "0": "Harry Potter and the Half-Blood Prince (Harry Potter, #6)",
                                    "1": "4.54",
                                    "2": "275",
                                    "3": "192",
                                    "4": "1"
                                },
                                {
                                    "0": "Harry Potter and the Half-Blood Prince (Harry Potter, #6)",
                                    "1": "4.54",
                                    "2": "275",
                                    "3": "202",
                                    "4": "1"
                                },
                                {
                                    "0": "Harry Potter and the Half-Blood Prince (Harry Potter, #6)",
                                    "1": "4.54",
                                    "2": "275",
                                    "3": "244",
                                    "4": "1"
                                },
                                {
                                    "0": "Harry Potter and the Half-Blood Prince (Harry Potter, #6)",
                                    "1": "4.54",
                                    "2": "275",
                                    "3": "253",
                                    "4": "1"
                                },
                                {
                                    "0": "Harry Potter and the Half-Blood Prince (Harry Potter, #6)",
                                    "1": "4.54",
                                    "2": "275",
                                    "3": "350",
                                    "4": "1"
                                },
                                {
                                    "0": "Harry Potter and the Half-Blood Prince (Harry Potter, #6)",
                                    "1": "4.54",
                                    "2": "275",
                                    "3": "478",
                                    "4": "1"
                                },
                                {
                                    "0": "Harry Potter and the Half-Blood Prince (Harry Potter, #6)",
                                    "1": "4.54",
                                    "2": "275",
                                    "3": "511",
                                    "4": "1"
                                },
                                {
                                    "0": "Harry Potter and the Half-Blood Prince (Harry Potter, #6)",
                                    "1": "4.54",
                                    "2": "275",
                                    "3": "525",
                                    "4": "1"
                                },
                                {
                                    "0": "Harry Potter and the Half-Blood Prince (Harry Potter, #6)",
                                    "1": "4.54",
                                    "2": "275",
                                    "3": "527",
                                    "4": "1"
                                }
                            ]
                        },
                        "text/html": "<table><tr><th>title</th><th>average_rating</th><th>books_count</th><th>user_id</th><th>book_id</th></tr><tr><td>Harry Potter and the Half-Blood Prince (Harry Potter, #6)</td><td>4.54</td><td>275</td><td>12</td><td>1</td></tr><tr><td>Harry Potter and the Half-Blood Prince (Harry Potter, #6)</td><td>4.54</td><td>275</td><td>192</td><td>1</td></tr><tr><td>Harry Potter and the Half-Blood Prince (Harry Potter, #6)</td><td>4.54</td><td>275</td><td>202</td><td>1</td></tr><tr><td>Harry Potter and the Half-Blood Prince (Harry Potter, #6)</td><td>4.54</td><td>275</td><td>244</td><td>1</td></tr><tr><td>Harry Potter and the Half-Blood Prince (Harry Potter, #6)</td><td>4.54</td><td>275</td><td>253</td><td>1</td></tr><tr><td>Harry Potter and the Half-Blood Prince (Harry Potter, #6)</td><td>4.54</td><td>275</td><td>350</td><td>1</td></tr><tr><td>Harry Potter and the Half-Blood Prince (Harry Potter, #6)</td><td>4.54</td><td>275</td><td>478</td><td>1</td></tr><tr><td>Harry Potter and the Half-Blood Prince (Harry Potter, #6)</td><td>4.54</td><td>275</td><td>511</td><td>1</td></tr><tr><td>Harry Potter and the Half-Blood Prince (Harry Potter, #6)</td><td>4.54</td><td>275</td><td>525</td><td>1</td></tr><tr><td>Harry Potter and the Half-Blood Prince (Harry Potter, #6)</td><td>4.54</td><td>275</td><td>527</td><td>1</td></tr></table>"
                    },
                    "metadata": {}
                }
            ],
            "execution_count": 112
        },
        {
            "cell_type": "markdown",
            "source": [
                "## **QUESTION 5:**  Using joins to find the most tagged book and the most popular tag\n",
                "\n",
                "We will be writing 3 queries to find both the most tagged book and that book's most popular tag.\n",
                "\n",
                "**Part A:**  What is the most tagged book?\n",
                "\n",
                "> <span style=\"background-color: rgba(127, 127, 127, 0.1); font-family: -apple-system, BlinkMacSystemFont, sans-serif;\">Start by joining the </span> **books** <span style=\"background-color: rgba(127, 127, 127, 0.1); font-family: -apple-system, BlinkMacSystemFont, sans-serif;\">and </span> **book\\_tags**     <span style=\"background-color: rgba(127, 127, 127, 0.1); font-family: -apple-system, BlinkMacSystemFont, sans-serif;\">&nbsp;tables ON the books.best_book_id and book_tags.goodreads_book_id.&nbsp;&nbsp;<br></span>        <span style=\"background-color: rgba(127, 127, 127, 0.1); font-family: -apple-system, BlinkMacSystemFont, sans-serif;\">We want the <i>most popular</i> book, so think about ordering the table in a way that will display both the book title and the number of times a book tag has been used.</span>\n",
                "> \n",
                "> _MInimum Desired output:_  The title of the most tagged book, and the number of times the book has been tagged.\n",
                "> \n",
                "> **Title: The Alchemist (tagged 596234 times)**\n",
                "\n",
                "**Part B:** How many different tags have been used for the most tagged book?\n",
                "\n",
                "> <span style=\"font-family: -apple-system, BlinkMacSystemFont, sans-serif; background-color: rgba(127, 127, 127, 0.1);\">Start by joining the&nbsp;</span>     **books** <span style=\"font-family: -apple-system, BlinkMacSystemFont, sans-serif; background-color: rgba(127, 127, 127, 0.1);\">and&nbsp;</span>     **book\\_tags**     <span style=\"font-family: -apple-system, BlinkMacSystemFont, sans-serif; background-color: rgba(127, 127, 127, 0.1);\">&nbsp;tables ON the books.best_book_id and book_tags.goodreads_book_id.&nbsp;&nbsp;<br></span>        We want to find the _most popular_ tag id, so think about ordering in a way that will display the most popular tag id.\n",
                "> \n",
                "> <span style=\"font-family: -apple-system, BlinkMacSystemFont, sans-serif; background-color: rgba(127, 127, 127, 0.1);\"><i>Minimum Desired Output:</i> The tag id for the most popular tag used for the most tagged book.&nbsp;</span>    \n",
                "> \n",
                "> <span style=\"font-family: -apple-system, BlinkMacSystemFont, sans-serif; background-color: rgba(127, 127, 127, 0.1);\"><b>Tag Id: The Alchemist&nbsp; with 100 different tags (most populat tag is 30574)</b></span>\n",
                "\n",
                "<span style=\"font-family: -apple-system, BlinkMacSystemFont, sans-serif; background-color: rgba(127, 127, 127, 0.1);\"><b>Part C: </b>What is this particular tag?</span>\n",
                "\n",
                "> You may return this answer with a simple query.\n",
                "\n",
                "> <span style=\"font-family: -apple-system, BlinkMacSystemFont, sans-serif; background-color: rgba(127, 127, 127, 0.1);\"><i>Minimum Desired Output:</i>&nbsp;The tag name for the most popular tag used for the most tagged book.&nbsp;</span>    \n",
                "> \n",
                "> <span style=\"font-family: -apple-system, BlinkMacSystemFont, sans-serif; background-color: rgba(127, 127, 127, 0.1);\"><b>Tag Name: 2017-final</b></span>"
            ],
            "metadata": {
                "azdata_cell_guid": "a685e9cc-2ae2-40e8-8cc1-022c8064d66d"
            },
            "attachments": {}
        },
        {
            "cell_type": "code",
            "source": [
                "-- Code Here:\r\n",
                "--Part 1 Code:\r\n",
                "SELECT TOP 5 b.title, bt.count, bt.tag_id \r\n",
                "FROM BooksDB.dbo.books as b \r\n",
                "INNER JOIN BooksDB.dbo.book_tags as bt ON b.best_book_id = bt.goodreads_book_id\r\n",
                "ORDER BY bt.count DESC; \r\n",
                "\r\n",
                "--Part 2 Code:\r\n",
                "SELECT TOP 5 b.title AS 'Title', COUNT(bt.tag_id) AS 'Tags'\r\n",
                "FROM BooksDB.dbo.books as b \r\n",
                "INNER JOIN BooksDB.dbo.book_tags as bt ON b.best_book_id = bt.goodreads_book_id\r\n",
                "WHERE b.title = 'The Alchemist'\r\n",
                "GROUP BY b.title;\r\n",
                "\r\n",
                "--Part 3 Code:\r\n",
                "SELECT TOP 1 b.tag_id AS 'Tag ID', b.count AS 'Number of Tags', t.tag_name AS 'Name of Tag'\r\n",
                "FROM BooksDB.dbo.book_tags as b \r\n",
                "FULL JOIN BooksDB.dbo.tags as t ON b.goodreads_book_id = t.tag_id\r\n",
                "WHERE b.tag_id = 30574\r\n",
                "ORDER BY b.count DESC;"
            ],
            "metadata": {
                "azdata_cell_guid": "de3ac253-6b47-4740-8c6e-5f9d1b0ce36b",
                "language": "sql",
                "tags": []
            },
            "outputs": [
                {
                    "output_type": "display_data",
                    "data": {
                        "text/html": "(5 rows affected)"
                    },
                    "metadata": {}
                },
                {
                    "output_type": "display_data",
                    "data": {
                        "text/html": "(1 row affected)"
                    },
                    "metadata": {}
                },
                {
                    "output_type": "display_data",
                    "data": {
                        "text/html": "(1 row affected)"
                    },
                    "metadata": {}
                },
                {
                    "output_type": "display_data",
                    "data": {
                        "text/html": "Total execution time: 00:00:00.538"
                    },
                    "metadata": {}
                },
                {
                    "output_type": "execute_result",
                    "metadata": {},
                    "execution_count": 11,
                    "data": {
                        "application/vnd.dataresource+json": {
                            "schema": {
                                "fields": [
                                    {
                                        "name": "title"
                                    },
                                    {
                                        "name": "count"
                                    },
                                    {
                                        "name": "tag_id"
                                    }
                                ]
                            },
                            "data": [
                                {
                                    "0": "The Alchemist",
                                    "1": "596234",
                                    "2": "30574"
                                },
                                {
                                    "0": "The Girl with the Dragon Tattoo (Millennium, #1)",
                                    "1": "586235",
                                    "2": "30574"
                                },
                                {
                                    "0": "All the Light We Cannot See",
                                    "1": "505884",
                                    "2": "30574"
                                },
                                {
                                    "0": "Harry Potter and the Sorcerer's Stone (Harry Potter, #1)",
                                    "1": "496107",
                                    "2": "30574"
                                },
                                {
                                    "0": "Les Misérables",
                                    "1": "488469",
                                    "2": "30574"
                                }
                            ]
                        },
                        "text/html": [
                            "<table>",
                            "<tr><th>title</th><th>count</th><th>tag_id</th></tr>",
                            "<tr><td>The Alchemist</td><td>596234</td><td>30574</td></tr>",
                            "<tr><td>The Girl with the Dragon Tattoo (Millennium, #1)</td><td>586235</td><td>30574</td></tr>",
                            "<tr><td>All the Light We Cannot See</td><td>505884</td><td>30574</td></tr>",
                            "<tr><td>Harry Potter and the Sorcerer's Stone (Harry Potter, #1)</td><td>496107</td><td>30574</td></tr>",
                            "<tr><td>Les Misérables</td><td>488469</td><td>30574</td></tr>",
                            "</table>"
                        ]
                    }
                },
                {
                    "output_type": "execute_result",
                    "metadata": {},
                    "execution_count": 11,
                    "data": {
                        "application/vnd.dataresource+json": {
                            "schema": {
                                "fields": [
                                    {
                                        "name": "Title"
                                    },
                                    {
                                        "name": "Tags"
                                    }
                                ]
                            },
                            "data": [
                                {
                                    "0": "The Alchemist",
                                    "1": "100"
                                }
                            ]
                        },
                        "text/html": [
                            "<table>",
                            "<tr><th>Title</th><th>Tags</th></tr>",
                            "<tr><td>The Alchemist</td><td>100</td></tr>",
                            "</table>"
                        ]
                    }
                },
                {
                    "output_type": "execute_result",
                    "metadata": {},
                    "execution_count": 11,
                    "data": {
                        "application/vnd.dataresource+json": {
                            "schema": {
                                "fields": [
                                    {
                                        "name": "Tag ID"
                                    },
                                    {
                                        "name": "Number of Tags"
                                    },
                                    {
                                        "name": "Name of Tag"
                                    }
                                ]
                            },
                            "data": [
                                {
                                    "0": "30574",
                                    "1": "596234",
                                    "2": "2017-final"
                                }
                            ]
                        },
                        "text/html": [
                            "<table>",
                            "<tr><th>Tag ID</th><th>Number of Tags</th><th>Name of Tag</th></tr>",
                            "<tr><td>30574</td><td>596234</td><td>2017-final</td></tr>",
                            "</table>"
                        ]
                    }
                }
            ],
            "execution_count": 11
        },
        {
            "cell_type": "markdown",
            "source": [
                "## **QUESTION 6:** Find a book based on a tag of your choice using joins.\n",
                "\n",
                "Some suggestions: any hobbies you like? baking, drawing, etc. how about favorite holidays, subjects, animals, etc?\n",
                "\n",
                "**Part A:** Explore the tags table for a tag of your choice.  Suggested ideas, try searching for one of your hobbies, a favorite time of year, favorite animal, etc.  Start by querying the tag table for your chosen tag.  (_Hint:_ in order to make sure you find all combinations of your tags, use the wildcard).  If your query returns more than one result, pick your favorite.\n",
                "\n",
                "> > _Here is an example.  Alyce wanted to search for halloween books.  She used the wildcard, '%halloween%' and 8 different combinations were found.  Alyce selected '**halloween-storytime**', with a tag id of 13877._\n",
                "\n",
                "> _Minimum Desired Output:_ <span style=\"font-family: -apple-system, BlinkMacSystemFont, sans-serif; background-color: rgba(127, 127, 127, 0.1);\">tag name and tag id</span>\n",
                "\n",
                "> **Your Tag and Tag ID: canadian-mystery with tag id 30672**\n",
                "\n",
                "**Part B:** Now that you have the **tag id**, find the title that was tagged the most with this tag by joining the books and books\\_tags tables.\n",
                "\n",
                "> > _Alyce joined the book table with the tags table and discovered that <u>The Little Old Lady Who Was Not Afraid of Anything</u> was tagged as '**halloween-storytime**' the most._\n",
                "\n",
                "> _Minimum Desired Output:_ <span style=\"background-color: rgba(127, 127, 127, 0.1); font-family: -apple-system, BlinkMacSystemFont, sans-serif;\">title and tag count</span>\n",
                "\n",
                "> **Your Title and Number of times the tag was used: Title is Darkness at Noon and number of times it was tagged with 30672 was 36,839**"
            ],
            "metadata": {
                "azdata_cell_guid": "df783e7e-3aff-4e63-9edb-f2e729c7d1c8"
            },
            "attachments": {}
        },
        {
            "cell_type": "code",
            "source": [
                "-- Code Here: \r\n",
                "--SELECT TOP 20 * FROM BooksDB.dbo.books ORDER BY best_book_id; \r\n",
                "--SELECT goodreads_book_id, COUNT(goodreads_book_id) FROM BooksDB.dbo.book_tags GROUP BY goodreads_book_id ORDER BY goodreads_book_id; \r\n",
                "--SELECT TOP 20 * FROM BooksDB.dbo.tags ORDER BY tag_id; \r\n",
                "\r\n",
                "--Part A Code:\r\n",
                "SELECT tag_id, tag_name\r\n",
                "FROM BooksDB.dbo.tags\r\n",
                "WHERE tag_name LIKE '%mystery%';\r\n",
                "\r\n",
                "--Part B Code:\r\n",
                "SELECT TOP 1 b.title, bt.tag_id, bt.count\r\n",
                "FROM BooksDB.dbo.books as b\r\n",
                "INNER JOIN BooksDB.dbo.book_tags as bt ON b.best_book_id = bt.goodreads_book_id\r\n",
                "WHERE bt.tag_id = ( \r\n",
                "    SELECT tag_id \r\n",
                "    FROM BooksDB.dbo.tags \r\n",
                "    WHERE tag_name = 'canadian-mystery'\r\n",
                "    );"
            ],
            "metadata": {
                "azdata_cell_guid": "c4b0b67c-7cfa-4f52-be97-ffe5cc28ed54",
                "tags": [],
                "language": "sql"
            },
            "outputs": [
                {
                    "output_type": "display_data",
                    "data": {
                        "text/html": "(172 rows affected)"
                    },
                    "metadata": {}
                },
                {
                    "output_type": "display_data",
                    "data": {
                        "text/html": "(1 row affected)"
                    },
                    "metadata": {}
                },
                {
                    "output_type": "display_data",
                    "data": {
                        "text/html": "Total execution time: 00:00:00.191"
                    },
                    "metadata": {}
                },
                {
                    "output_type": "execute_result",
                    "metadata": {},
                    "execution_count": 20,
                    "data": {
                        "application/vnd.dataresource+json": {
                            "schema": {
                                "fields": [
                                    {
                                        "name": "tag_id"
                                    },
                                    {
                                        "name": "tag_name"
                                    }
                                ]
                            },
                            "data": [
                                {
                                    "0": "412",
                                    "1": "1920-30-s-british-period-mystery"
                                },
                                {
                                    "0": "1000",
                                    "1": "3-mystery-thrillers"
                                },
                                {
                                    "0": "1445",
                                    "1": "abduction-lisa-gardner-mystery-susp"
                                },
                                {
                                    "0": "1476",
                                    "1": "about-to-read-mystery-thriller"
                                },
                                {
                                    "0": "1548",
                                    "1": "action-mystery"
                                },
                                {
                                    "0": "1556",
                                    "1": "action-thriller-mystery"
                                },
                                {
                                    "0": "1661",
                                    "1": "adult-historical-mystery"
                                },
                                {
                                    "0": "1666",
                                    "1": "adult-mystery"
                                },
                                {
                                    "0": "1697",
                                    "1": "adventure-mystery"
                                },
                                {
                                    "0": "2441",
                                    "1": "ancient-mystery"
                                },
                                {
                                    "0": "2561",
                                    "1": "animal-mystery"
                                },
                                {
                                    "0": "3435",
                                    "1": "aurora-teagarden-mystery-series"
                                },
                                {
                                    "0": "5779",
                                    "1": "british-mystery"
                                },
                                {
                                    "0": "6192",
                                    "1": "canadian-mystery"
                                },
                                {
                                    "0": "6712",
                                    "1": "chet-and-bernie-mystery"
                                },
                                {
                                    "0": "6753",
                                    "1": "chick-lit-mystery"
                                },
                                {
                                    "0": "6775",
                                    "1": "chief-inspector-gamache-mystery"
                                },
                                {
                                    "0": "6979",
                                    "1": "childrens-mystery"
                                },
                                {
                                    "0": "7151",
                                    "1": "christian-mystery"
                                },
                                {
                                    "0": "7152",
                                    "1": "christian-mystery-suspense"
                                },
                                {
                                    "0": "7426",
                                    "1": "classic-mystery"
                                },
                                {
                                    "0": "8072",
                                    "1": "contemporary-mystery"
                                },
                                {
                                    "0": "8335",
                                    "1": "cosy-mystery"
                                },
                                {
                                    "0": "8429",
                                    "1": "cozy-mystery"
                                },
                                {
                                    "0": "8430",
                                    "1": "cozy-mystery-series"
                                },
                                {
                                    "0": "8518",
                                    "1": "crime-and-mystery"
                                },
                                {
                                    "0": "8529",
                                    "1": "crime-fiction-stand-alone-mystery"
                                },
                                {
                                    "0": "8533",
                                    "1": "crime-mystery"
                                },
                                {
                                    "0": "8534",
                                    "1": "crime-mystery-suspense"
                                },
                                {
                                    "0": "8535",
                                    "1": "crime-mystery-thriller"
                                },
                                {
                                    "0": "8547",
                                    "1": "crime-thriller-mystery"
                                },
                                {
                                    "0": "8644",
                                    "1": "culinary-mystery"
                                },
                                {
                                    "0": "9347",
                                    "1": "detective-mystery"
                                },
                                {
                                    "0": "9348",
                                    "1": "detective-mystery-suspense-thriller"
                                },
                                {
                                    "0": "10661",
                                    "1": "english-mystery"
                                },
                                {
                                    "0": "11803",
                                    "1": "fiction-mystery"
                                },
                                {
                                    "0": "11804",
                                    "1": "fiction-mystery-crime"
                                },
                                {
                                    "0": "11805",
                                    "1": "fiction-mystery-suspense"
                                },
                                {
                                    "0": "12110",
                                    "1": "flavia-deluce-mystery"
                                },
                                {
                                    "0": "12129",
                                    "1": "florida-mystery"
                                },
                                {
                                    "0": "12149",
                                    "1": "fmh-mystery-set-or-wr-pre-1950"
                                },
                                {
                                    "0": "12362",
                                    "1": "forensic-mystery"
                                },
                                {
                                    "0": "12493",
                                    "1": "franklin-mystery"
                                },
                                {
                                    "0": "12671",
                                    "1": "fun-mystery"
                                },
                                {
                                    "0": "12687",
                                    "1": "funny-mystery"
                                },
                                {
                                    "0": "12738",
                                    "1": "g-mystery"
                                },
                                {
                                    "0": "13015",
                                    "1": "genre-mystery"
                                },
                                {
                                    "0": "13337",
                                    "1": "golden-age-mystery"
                                },
                                {
                                    "0": "13378",
                                    "1": "good-mystery"
                                },
                                {
                                    "0": "14377",
                                    "1": "high-school-mystery"
                                },
                                {
                                    "0": "14519",
                                    "1": "historical-mystery"
                                },
                                {
                                    "0": "14599",
                                    "1": "history-mystery"
                                },
                                {
                                    "0": "14841",
                                    "1": "horror-mystery"
                                },
                                {
                                    "0": "14842",
                                    "1": "horror-mystery-thriller"
                                },
                                {
                                    "0": "14857",
                                    "1": "horror-thriller-crime-mystery"
                                },
                                {
                                    "0": "14858",
                                    "1": "horror-thriller-mystery"
                                },
                                {
                                    "0": "15065",
                                    "1": "humorous-mystery"
                                },
                                {
                                    "0": "15973",
                                    "1": "j-mystery"
                                },
                                {
                                    "0": "17153",
                                    "1": "kids-mystery"
                                },
                                {
                                    "0": "17313",
                                    "1": "kinsey-millhone-mystery-series"
                                },
                                {
                                    "0": "17861",
                                    "1": "legal-mystery"
                                },
                                {
                                    "0": "18183",
                                    "1": "light-mystery"
                                },
                                {
                                    "0": "18212",
                                    "1": "lily-bard-shakespeare-mystery-serie"
                                },
                                {
                                    "0": "19133",
                                    "1": "manga-mystery"
                                },
                                {
                                    "0": "19646",
                                    "1": "medical-mystery"
                                },
                                {
                                    "0": "19676",
                                    "1": "medieval-mystery"
                                },
                                {
                                    "0": "20306",
                                    "1": "modern-mystery"
                                },
                                {
                                    "0": "20662",
                                    "1": "murder-mystery"
                                },
                                {
                                    "0": "20939",
                                    "1": "mystery"
                                },
                                {
                                    "0": "20940",
                                    "1": "mystery---thrillers"
                                },
                                {
                                    "0": "20941",
                                    "1": "mystery--suspense"
                                },
                                {
                                    "0": "20942",
                                    "1": "mystery-action"
                                },
                                {
                                    "0": "20943",
                                    "1": "mystery-adventure"
                                },
                                {
                                    "0": "20944",
                                    "1": "mystery-adventure-thrillers"
                                },
                                {
                                    "0": "20945",
                                    "1": "mystery-agatha-christie"
                                },
                                {
                                    "0": "20946",
                                    "1": "mystery-american"
                                },
                                {
                                    "0": "20947",
                                    "1": "mystery-and-crime"
                                },
                                {
                                    "0": "20948",
                                    "1": "mystery-and-suspense"
                                },
                                {
                                    "0": "20949",
                                    "1": "mystery-and-thriller"
                                },
                                {
                                    "0": "20950",
                                    "1": "mystery-and-thrillers"
                                },
                                {
                                    "0": "20951",
                                    "1": "mystery-book-club"
                                },
                                {
                                    "0": "20952",
                                    "1": "mystery-british"
                                },
                                {
                                    "0": "20953",
                                    "1": "mystery-classic"
                                },
                                {
                                    "0": "20954",
                                    "1": "mystery-comedy"
                                },
                                {
                                    "0": "20955",
                                    "1": "mystery-contemporary"
                                },
                                {
                                    "0": "20956",
                                    "1": "mystery-cozy"
                                },
                                {
                                    "0": "20957",
                                    "1": "mystery-crime"
                                },
                                {
                                    "0": "20958",
                                    "1": "mystery-crime-fiction"
                                },
                                {
                                    "0": "20959",
                                    "1": "mystery-crime-police-procedural"
                                },
                                {
                                    "0": "20960",
                                    "1": "mystery-crime-suspense"
                                },
                                {
                                    "0": "20961",
                                    "1": "mystery-crime-thriller"
                                },
                                {
                                    "0": "20962",
                                    "1": "mystery-culinary"
                                },
                                {
                                    "0": "20963",
                                    "1": "mystery-detective"
                                },
                                {
                                    "0": "20964",
                                    "1": "mystery-detective-crime"
                                },
                                {
                                    "0": "20965",
                                    "1": "mystery-detective-noir"
                                },
                                {
                                    "0": "20966",
                                    "1": "mystery-detective-thriller"
                                },
                                {
                                    "0": "20967",
                                    "1": "mystery-fiction"
                                },
                                {
                                    "0": "20968",
                                    "1": "mystery-florida"
                                },
                                {
                                    "0": "20969",
                                    "1": "mystery-forensic"
                                },
                                {
                                    "0": "20970",
                                    "1": "mystery-golden-age"
                                },
                                {
                                    "0": "20971",
                                    "1": "mystery-historical"
                                },
                                {
                                    "0": "20972",
                                    "1": "mystery-horror"
                                },
                                {
                                    "0": "20973",
                                    "1": "mystery-horror-thriller"
                                },
                                {
                                    "0": "20974",
                                    "1": "mystery-humor"
                                },
                                {
                                    "0": "20975",
                                    "1": "mystery-legal"
                                },
                                {
                                    "0": "20976",
                                    "1": "mystery-legal-medical"
                                },
                                {
                                    "0": "20977",
                                    "1": "mystery-medical"
                                },
                                {
                                    "0": "20978",
                                    "1": "mystery-n-suspense"
                                },
                                {
                                    "0": "20979",
                                    "1": "mystery-noir"
                                },
                                {
                                    "0": "20980",
                                    "1": "mystery-paranormal"
                                },
                                {
                                    "0": "20981",
                                    "1": "mystery-police"
                                },
                                {
                                    "0": "20982",
                                    "1": "mystery-read"
                                },
                                {
                                    "0": "20983",
                                    "1": "mystery-reference"
                                },
                                {
                                    "0": "20984",
                                    "1": "mystery-romance"
                                },
                                {
                                    "0": "20985",
                                    "1": "mystery-scandinavian"
                                },
                                {
                                    "0": "20986",
                                    "1": "mystery-series"
                                },
                                {
                                    "0": "20987",
                                    "1": "mystery-spy"
                                },
                                {
                                    "0": "20988",
                                    "1": "mystery-suspence"
                                },
                                {
                                    "0": "20989",
                                    "1": "mystery-suspense"
                                },
                                {
                                    "0": "20990",
                                    "1": "mystery-suspense-horror"
                                },
                                {
                                    "0": "20991",
                                    "1": "mystery-suspense-thriller"
                                },
                                {
                                    "0": "20992",
                                    "1": "mystery-suspense-thriller-horror"
                                },
                                {
                                    "0": "20993",
                                    "1": "mystery-suspense-thrillers"
                                },
                                {
                                    "0": "20994",
                                    "1": "mystery-thriller"
                                },
                                {
                                    "0": "20995",
                                    "1": "mystery-thriller-and-suspense"
                                },
                                {
                                    "0": "20996",
                                    "1": "mystery-thriller-crime"
                                },
                                {
                                    "0": "20997",
                                    "1": "mystery-thriller-detective-spy"
                                },
                                {
                                    "0": "20998",
                                    "1": "mystery-thriller-horror"
                                },
                                {
                                    "0": "20999",
                                    "1": "mystery-thriller-spy"
                                },
                                {
                                    "0": "21000",
                                    "1": "mystery-thriller-suspence"
                                },
                                {
                                    "0": "21001",
                                    "1": "mystery-thriller-suspense"
                                },
                                {
                                    "0": "21002",
                                    "1": "mystery-thriller-suspense-horror"
                                },
                                {
                                    "0": "21003",
                                    "1": "mystery-thrillers"
                                },
                                {
                                    "0": "21004",
                                    "1": "mystery-to-read"
                                },
                                {
                                    "0": "21005",
                                    "1": "mystery-unsure"
                                },
                                {
                                    "0": "21006",
                                    "1": "mystery_2014older"
                                },
                                {
                                    "0": "22514",
                                    "1": "origin-mystery"
                                },
                                {
                                    "0": "22981",
                                    "1": "paranormal-mystery"
                                },
                                {
                                    "0": "24519",
                                    "1": "psychological-mystery"
                                },
                                {
                                    "0": "25238",
                                    "1": "read-mystery"
                                },
                                {
                                    "0": "26160",
                                    "1": "romance-mystery"
                                },
                                {
                                    "0": "26202",
                                    "1": "romantic-mystery"
                                },
                                {
                                    "0": "26676",
                                    "1": "scandanavian-mystery"
                                },
                                {
                                    "0": "26691",
                                    "1": "scandinavian-mystery"
                                },
                                {
                                    "0": "27546",
                                    "1": "shelfari-mystery"
                                },
                                {
                                    "0": "27579",
                                    "1": "sherlock-holmes-mystery"
                                },
                                {
                                    "0": "28469",
                                    "1": "spy-and-mystery"
                                },
                                {
                                    "0": "28476",
                                    "1": "spy-mystery"
                                },
                                {
                                    "0": "29016",
                                    "1": "supernatural-mystery"
                                },
                                {
                                    "0": "29081",
                                    "1": "suspense-mystery"
                                },
                                {
                                    "0": "29085",
                                    "1": "suspense-thriller-mystery"
                                },
                                {
                                    "0": "29087",
                                    "1": "suspenseful-mystery"
                                },
                                {
                                    "0": "29343",
                                    "1": "tbr-mystery-or-thriller"
                                },
                                {
                                    "0": "29468",
                                    "1": "teen-mystery"
                                },
                                {
                                    "0": "29992",
                                    "1": "the-origin-mystery"
                                },
                                {
                                    "0": "29993",
                                    "1": "the-origin-mystery-series"
                                },
                                {
                                    "0": "30043",
                                    "1": "the-queen-of-mystery"
                                },
                                {
                                    "0": "30154",
                                    "1": "the-undead-mystery"
                                },
                                {
                                    "0": "30350",
                                    "1": "three-pines-mystery"
                                },
                                {
                                    "0": "30366",
                                    "1": "thriller-espionage-mystery"
                                },
                                {
                                    "0": "30373",
                                    "1": "thriller-mystery"
                                },
                                {
                                    "0": "30374",
                                    "1": "thriller-mystery-horror"
                                },
                                {
                                    "0": "30375",
                                    "1": "thriller-mystery-suspense"
                                },
                                {
                                    "0": "30382",
                                    "1": "thriller-suspense-mystery"
                                },
                                {
                                    "0": "30384",
                                    "1": "thriller_horror_mystery_sci-fi"
                                },
                                {
                                    "0": "30390",
                                    "1": "thrillers-mystery"
                                },
                                {
                                    "0": "30708",
                                    "1": "to-read-in-mystery"
                                },
                                {
                                    "0": "30748",
                                    "1": "to-read-mystery"
                                },
                                {
                                    "0": "31866",
                                    "1": "victorian-mystery"
                                },
                                {
                                    "0": "32362",
                                    "1": "western-mystery"
                                },
                                {
                                    "0": "32980",
                                    "1": "y-mystery-thriller"
                                },
                                {
                                    "0": "33031",
                                    "1": "ya-mystery"
                                }
                            ]
                        },
                        "text/html": [
                            "<table>",
                            "<tr><th>tag_id</th><th>tag_name</th></tr>",
                            "<tr><td>412</td><td>1920-30-s-british-period-mystery</td></tr>",
                            "<tr><td>1000</td><td>3-mystery-thrillers</td></tr>",
                            "<tr><td>1445</td><td>abduction-lisa-gardner-mystery-susp</td></tr>",
                            "<tr><td>1476</td><td>about-to-read-mystery-thriller</td></tr>",
                            "<tr><td>1548</td><td>action-mystery</td></tr>",
                            "<tr><td>1556</td><td>action-thriller-mystery</td></tr>",
                            "<tr><td>1661</td><td>adult-historical-mystery</td></tr>",
                            "<tr><td>1666</td><td>adult-mystery</td></tr>",
                            "<tr><td>1697</td><td>adventure-mystery</td></tr>",
                            "<tr><td>2441</td><td>ancient-mystery</td></tr>",
                            "<tr><td>2561</td><td>animal-mystery</td></tr>",
                            "<tr><td>3435</td><td>aurora-teagarden-mystery-series</td></tr>",
                            "<tr><td>5779</td><td>british-mystery</td></tr>",
                            "<tr><td>6192</td><td>canadian-mystery</td></tr>",
                            "<tr><td>6712</td><td>chet-and-bernie-mystery</td></tr>",
                            "<tr><td>6753</td><td>chick-lit-mystery</td></tr>",
                            "<tr><td>6775</td><td>chief-inspector-gamache-mystery</td></tr>",
                            "<tr><td>6979</td><td>childrens-mystery</td></tr>",
                            "<tr><td>7151</td><td>christian-mystery</td></tr>",
                            "<tr><td>7152</td><td>christian-mystery-suspense</td></tr>",
                            "<tr><td>7426</td><td>classic-mystery</td></tr>",
                            "<tr><td>8072</td><td>contemporary-mystery</td></tr>",
                            "<tr><td>8335</td><td>cosy-mystery</td></tr>",
                            "<tr><td>8429</td><td>cozy-mystery</td></tr>",
                            "<tr><td>8430</td><td>cozy-mystery-series</td></tr>",
                            "<tr><td>8518</td><td>crime-and-mystery</td></tr>",
                            "<tr><td>8529</td><td>crime-fiction-stand-alone-mystery</td></tr>",
                            "<tr><td>8533</td><td>crime-mystery</td></tr>",
                            "<tr><td>8534</td><td>crime-mystery-suspense</td></tr>",
                            "<tr><td>8535</td><td>crime-mystery-thriller</td></tr>",
                            "<tr><td>8547</td><td>crime-thriller-mystery</td></tr>",
                            "<tr><td>8644</td><td>culinary-mystery</td></tr>",
                            "<tr><td>9347</td><td>detective-mystery</td></tr>",
                            "<tr><td>9348</td><td>detective-mystery-suspense-thriller</td></tr>",
                            "<tr><td>10661</td><td>english-mystery</td></tr>",
                            "<tr><td>11803</td><td>fiction-mystery</td></tr>",
                            "<tr><td>11804</td><td>fiction-mystery-crime</td></tr>",
                            "<tr><td>11805</td><td>fiction-mystery-suspense</td></tr>",
                            "<tr><td>12110</td><td>flavia-deluce-mystery</td></tr>",
                            "<tr><td>12129</td><td>florida-mystery</td></tr>",
                            "<tr><td>12149</td><td>fmh-mystery-set-or-wr-pre-1950</td></tr>",
                            "<tr><td>12362</td><td>forensic-mystery</td></tr>",
                            "<tr><td>12493</td><td>franklin-mystery</td></tr>",
                            "<tr><td>12671</td><td>fun-mystery</td></tr>",
                            "<tr><td>12687</td><td>funny-mystery</td></tr>",
                            "<tr><td>12738</td><td>g-mystery</td></tr>",
                            "<tr><td>13015</td><td>genre-mystery</td></tr>",
                            "<tr><td>13337</td><td>golden-age-mystery</td></tr>",
                            "<tr><td>13378</td><td>good-mystery</td></tr>",
                            "<tr><td>14377</td><td>high-school-mystery</td></tr>",
                            "<tr><td>14519</td><td>historical-mystery</td></tr>",
                            "<tr><td>14599</td><td>history-mystery</td></tr>",
                            "<tr><td>14841</td><td>horror-mystery</td></tr>",
                            "<tr><td>14842</td><td>horror-mystery-thriller</td></tr>",
                            "<tr><td>14857</td><td>horror-thriller-crime-mystery</td></tr>",
                            "<tr><td>14858</td><td>horror-thriller-mystery</td></tr>",
                            "<tr><td>15065</td><td>humorous-mystery</td></tr>",
                            "<tr><td>15973</td><td>j-mystery</td></tr>",
                            "<tr><td>17153</td><td>kids-mystery</td></tr>",
                            "<tr><td>17313</td><td>kinsey-millhone-mystery-series</td></tr>",
                            "<tr><td>17861</td><td>legal-mystery</td></tr>",
                            "<tr><td>18183</td><td>light-mystery</td></tr>",
                            "<tr><td>18212</td><td>lily-bard-shakespeare-mystery-serie</td></tr>",
                            "<tr><td>19133</td><td>manga-mystery</td></tr>",
                            "<tr><td>19646</td><td>medical-mystery</td></tr>",
                            "<tr><td>19676</td><td>medieval-mystery</td></tr>",
                            "<tr><td>20306</td><td>modern-mystery</td></tr>",
                            "<tr><td>20662</td><td>murder-mystery</td></tr>",
                            "<tr><td>20939</td><td>mystery</td></tr>",
                            "<tr><td>20940</td><td>mystery---thrillers</td></tr>",
                            "<tr><td>20941</td><td>mystery--suspense</td></tr>",
                            "<tr><td>20942</td><td>mystery-action</td></tr>",
                            "<tr><td>20943</td><td>mystery-adventure</td></tr>",
                            "<tr><td>20944</td><td>mystery-adventure-thrillers</td></tr>",
                            "<tr><td>20945</td><td>mystery-agatha-christie</td></tr>",
                            "<tr><td>20946</td><td>mystery-american</td></tr>",
                            "<tr><td>20947</td><td>mystery-and-crime</td></tr>",
                            "<tr><td>20948</td><td>mystery-and-suspense</td></tr>",
                            "<tr><td>20949</td><td>mystery-and-thriller</td></tr>",
                            "<tr><td>20950</td><td>mystery-and-thrillers</td></tr>",
                            "<tr><td>20951</td><td>mystery-book-club</td></tr>",
                            "<tr><td>20952</td><td>mystery-british</td></tr>",
                            "<tr><td>20953</td><td>mystery-classic</td></tr>",
                            "<tr><td>20954</td><td>mystery-comedy</td></tr>",
                            "<tr><td>20955</td><td>mystery-contemporary</td></tr>",
                            "<tr><td>20956</td><td>mystery-cozy</td></tr>",
                            "<tr><td>20957</td><td>mystery-crime</td></tr>",
                            "<tr><td>20958</td><td>mystery-crime-fiction</td></tr>",
                            "<tr><td>20959</td><td>mystery-crime-police-procedural</td></tr>",
                            "<tr><td>20960</td><td>mystery-crime-suspense</td></tr>",
                            "<tr><td>20961</td><td>mystery-crime-thriller</td></tr>",
                            "<tr><td>20962</td><td>mystery-culinary</td></tr>",
                            "<tr><td>20963</td><td>mystery-detective</td></tr>",
                            "<tr><td>20964</td><td>mystery-detective-crime</td></tr>",
                            "<tr><td>20965</td><td>mystery-detective-noir</td></tr>",
                            "<tr><td>20966</td><td>mystery-detective-thriller</td></tr>",
                            "<tr><td>20967</td><td>mystery-fiction</td></tr>",
                            "<tr><td>20968</td><td>mystery-florida</td></tr>",
                            "<tr><td>20969</td><td>mystery-forensic</td></tr>",
                            "<tr><td>20970</td><td>mystery-golden-age</td></tr>",
                            "<tr><td>20971</td><td>mystery-historical</td></tr>",
                            "<tr><td>20972</td><td>mystery-horror</td></tr>",
                            "<tr><td>20973</td><td>mystery-horror-thriller</td></tr>",
                            "<tr><td>20974</td><td>mystery-humor</td></tr>",
                            "<tr><td>20975</td><td>mystery-legal</td></tr>",
                            "<tr><td>20976</td><td>mystery-legal-medical</td></tr>",
                            "<tr><td>20977</td><td>mystery-medical</td></tr>",
                            "<tr><td>20978</td><td>mystery-n-suspense</td></tr>",
                            "<tr><td>20979</td><td>mystery-noir</td></tr>",
                            "<tr><td>20980</td><td>mystery-paranormal</td></tr>",
                            "<tr><td>20981</td><td>mystery-police</td></tr>",
                            "<tr><td>20982</td><td>mystery-read</td></tr>",
                            "<tr><td>20983</td><td>mystery-reference</td></tr>",
                            "<tr><td>20984</td><td>mystery-romance</td></tr>",
                            "<tr><td>20985</td><td>mystery-scandinavian</td></tr>",
                            "<tr><td>20986</td><td>mystery-series</td></tr>",
                            "<tr><td>20987</td><td>mystery-spy</td></tr>",
                            "<tr><td>20988</td><td>mystery-suspence</td></tr>",
                            "<tr><td>20989</td><td>mystery-suspense</td></tr>",
                            "<tr><td>20990</td><td>mystery-suspense-horror</td></tr>",
                            "<tr><td>20991</td><td>mystery-suspense-thriller</td></tr>",
                            "<tr><td>20992</td><td>mystery-suspense-thriller-horror</td></tr>",
                            "<tr><td>20993</td><td>mystery-suspense-thrillers</td></tr>",
                            "<tr><td>20994</td><td>mystery-thriller</td></tr>",
                            "<tr><td>20995</td><td>mystery-thriller-and-suspense</td></tr>",
                            "<tr><td>20996</td><td>mystery-thriller-crime</td></tr>",
                            "<tr><td>20997</td><td>mystery-thriller-detective-spy</td></tr>",
                            "<tr><td>20998</td><td>mystery-thriller-horror</td></tr>",
                            "<tr><td>20999</td><td>mystery-thriller-spy</td></tr>",
                            "<tr><td>21000</td><td>mystery-thriller-suspence</td></tr>",
                            "<tr><td>21001</td><td>mystery-thriller-suspense</td></tr>",
                            "<tr><td>21002</td><td>mystery-thriller-suspense-horror</td></tr>",
                            "<tr><td>21003</td><td>mystery-thrillers</td></tr>",
                            "<tr><td>21004</td><td>mystery-to-read</td></tr>",
                            "<tr><td>21005</td><td>mystery-unsure</td></tr>",
                            "<tr><td>21006</td><td>mystery_2014older</td></tr>",
                            "<tr><td>22514</td><td>origin-mystery</td></tr>",
                            "<tr><td>22981</td><td>paranormal-mystery</td></tr>",
                            "<tr><td>24519</td><td>psychological-mystery</td></tr>",
                            "<tr><td>25238</td><td>read-mystery</td></tr>",
                            "<tr><td>26160</td><td>romance-mystery</td></tr>",
                            "<tr><td>26202</td><td>romantic-mystery</td></tr>",
                            "<tr><td>26676</td><td>scandanavian-mystery</td></tr>",
                            "<tr><td>26691</td><td>scandinavian-mystery</td></tr>",
                            "<tr><td>27546</td><td>shelfari-mystery</td></tr>",
                            "<tr><td>27579</td><td>sherlock-holmes-mystery</td></tr>",
                            "<tr><td>28469</td><td>spy-and-mystery</td></tr>",
                            "<tr><td>28476</td><td>spy-mystery</td></tr>",
                            "<tr><td>29016</td><td>supernatural-mystery</td></tr>",
                            "<tr><td>29081</td><td>suspense-mystery</td></tr>",
                            "<tr><td>29085</td><td>suspense-thriller-mystery</td></tr>",
                            "<tr><td>29087</td><td>suspenseful-mystery</td></tr>",
                            "<tr><td>29343</td><td>tbr-mystery-or-thriller</td></tr>",
                            "<tr><td>29468</td><td>teen-mystery</td></tr>",
                            "<tr><td>29992</td><td>the-origin-mystery</td></tr>",
                            "<tr><td>29993</td><td>the-origin-mystery-series</td></tr>",
                            "<tr><td>30043</td><td>the-queen-of-mystery</td></tr>",
                            "<tr><td>30154</td><td>the-undead-mystery</td></tr>",
                            "<tr><td>30350</td><td>three-pines-mystery</td></tr>",
                            "<tr><td>30366</td><td>thriller-espionage-mystery</td></tr>",
                            "<tr><td>30373</td><td>thriller-mystery</td></tr>",
                            "<tr><td>30374</td><td>thriller-mystery-horror</td></tr>",
                            "<tr><td>30375</td><td>thriller-mystery-suspense</td></tr>",
                            "<tr><td>30382</td><td>thriller-suspense-mystery</td></tr>",
                            "<tr><td>30384</td><td>thriller_horror_mystery_sci-fi</td></tr>",
                            "<tr><td>30390</td><td>thrillers-mystery</td></tr>",
                            "<tr><td>30708</td><td>to-read-in-mystery</td></tr>",
                            "<tr><td>30748</td><td>to-read-mystery</td></tr>",
                            "<tr><td>31866</td><td>victorian-mystery</td></tr>",
                            "<tr><td>32362</td><td>western-mystery</td></tr>",
                            "<tr><td>32980</td><td>y-mystery-thriller</td></tr>",
                            "<tr><td>33031</td><td>ya-mystery</td></tr>",
                            "</table>"
                        ]
                    }
                },
                {
                    "output_type": "execute_result",
                    "metadata": {},
                    "execution_count": 20,
                    "data": {
                        "application/vnd.dataresource+json": {
                            "schema": {
                                "fields": [
                                    {
                                        "name": "title"
                                    },
                                    {
                                        "name": "tag_id"
                                    },
                                    {
                                        "name": "count"
                                    }
                                ]
                            },
                            "data": [
                                {
                                    "0": "Still Life (Chief Inspector Armand Gamache, #1)",
                                    "1": "6192",
                                    "2": "44"
                                }
                            ]
                        },
                        "text/html": [
                            "<table>",
                            "<tr><th>title</th><th>tag_id</th><th>count</th></tr>",
                            "<tr><td>Still Life (Chief Inspector Armand Gamache, #1)</td><td>6192</td><td>44</td></tr>",
                            "</table>"
                        ]
                    }
                }
            ],
            "execution_count": 20
        },
        {
            "cell_type": "markdown",
            "source": [
                "## **QUESTION 7:** What are the top 10 most popular book titles on the 'to read' list?\n",
                "\n",
                "**Part A:**  Explore how the **to\\_read** and **books** tables are organized, and then join them.  What will you use as a key?\n",
                "\n",
                "> Your Answer: I will use best\\_book\\_id from boks and book\\_id from to\\_read\n",
                "\n",
                "**Part B:** Organize your newly joined table in a way that groups popularity based on the title based on users.\n",
                "\n",
                "> _Hint:_ Suggest using an alias for the aggregation you will need to run on the **user\\_id**\n",
                "\n",
                "> _Minimum Desired Output:_ title and aliased column"
            ],
            "metadata": {
                "azdata_cell_guid": "4e5349b7-24f6-481a-9d88-bb4f86abc624"
            },
            "attachments": {}
        },
        {
            "cell_type": "code",
            "source": [
                "-- Code Here:\r\n",
                "--SELECT COUNT(*) AS 'number of users' FROM BooksDB.dbo.to_read GROUP BY user_id ORDER BY user_id; \r\n",
                "--SELECT best_book_id, books_count, title, average_rating FROM BooksDB.dbo.books ORDER BY best_book_id;\r\n",
                "\r\n",
                "SELECT TOP 10 b.title AS 'Book Title', COUNT(tr.user_id) AS 'Count of Individual Readers'\r\n",
                "FROM BooksDB.dbo.to_read AS tr\r\n",
                "INNER JOIN BooksDB.dbo.books AS b ON tr.book_id = b.best_book_id\r\n",
                "GROUP BY b.title\r\n",
                "ORDER BY 'Count of Individual Readers' DESC; \r\n",
                "\r\n",
                ""
            ],
            "metadata": {
                "azdata_cell_guid": "8af25df1-ce61-4152-8198-0b53c17642d0",
                "language": "sql"
            },
            "outputs": [
                {
                    "output_type": "display_data",
                    "data": {
                        "text/html": "(10 rows affected)"
                    },
                    "metadata": {}
                },
                {
                    "output_type": "display_data",
                    "data": {
                        "text/html": "Total execution time: 00:00:00.307"
                    },
                    "metadata": {}
                },
                {
                    "output_type": "execute_result",
                    "metadata": {},
                    "execution_count": 23,
                    "data": {
                        "application/vnd.dataresource+json": {
                            "schema": {
                                "fields": [
                                    {
                                        "name": "Book Title"
                                    },
                                    {
                                        "name": "Count of Individual Readers"
                                    }
                                ]
                            },
                            "data": [
                                {
                                    "0": "The Ultimate Hitchhiker's Guide to the Galaxy",
                                    "1": "1812"
                                },
                                {
                                    "0": "The Lord of the Rings: The Art of The Fellowship of the Ring",
                                    "1": "1499"
                                },
                                {
                                    "0": "Harry Potter Boxed Set, Books 1-5 (Harry Potter, #1-5)",
                                    "1": "1498"
                                },
                                {
                                    "0": "Harry Potter and the Goblet of Fire (Harry Potter, #4)",
                                    "1": "1484"
                                },
                                {
                                    "0": "The Known World",
                                    "1": "1352"
                                },
                                {
                                    "0": "Harry Potter and the Prisoner of Azkaban (Harry Potter, #3)",
                                    "1": "1293"
                                },
                                {
                                    "0": "The Lord of the Rings: Weapons and Warfare",
                                    "1": "1211"
                                },
                                {
                                    "0": "Notes from a Small Island",
                                    "1": "1148"
                                },
                                {
                                    "0": "Harry Potter Collection (Harry Potter, #1-6)",
                                    "1": "1110"
                                },
                                {
                                    "0": "The Lord of the Rings (The Lord of the Rings, #1-3)",
                                    "1": "1094"
                                }
                            ]
                        },
                        "text/html": [
                            "<table>",
                            "<tr><th>Book Title</th><th>Count of Individual Readers</th></tr>",
                            "<tr><td>The Ultimate Hitchhiker's Guide to the Galaxy</td><td>1812</td></tr>",
                            "<tr><td>The Lord of the Rings: The Art of The Fellowship of the Ring</td><td>1499</td></tr>",
                            "<tr><td>Harry Potter Boxed Set, Books 1-5 (Harry Potter, #1-5)</td><td>1498</td></tr>",
                            "<tr><td>Harry Potter and the Goblet of Fire (Harry Potter, #4)</td><td>1484</td></tr>",
                            "<tr><td>The Known World</td><td>1352</td></tr>",
                            "<tr><td>Harry Potter and the Prisoner of Azkaban (Harry Potter, #3)</td><td>1293</td></tr>",
                            "<tr><td>The Lord of the Rings: Weapons and Warfare</td><td>1211</td></tr>",
                            "<tr><td>Notes from a Small Island</td><td>1148</td></tr>",
                            "<tr><td>Harry Potter Collection (Harry Potter, #1-6)</td><td>1110</td></tr>",
                            "<tr><td>The Lord of the Rings (The Lord of the Rings, #1-3)</td><td>1094</td></tr>",
                            "</table>"
                        ]
                    }
                }
            ],
            "execution_count": 23
        },
        {
            "cell_type": "markdown",
            "source": [
                "## **QUESTION 8:** Largest 'To Read' Lists\n",
                "\n",
                "**Part A:**  Create a query that returns a table that contains the top 10 users with the most number of titles on their 'to read' list.    Group all the entries by user\\_id.  \n",
                "\n",
                "> _Hint:_ You might want an alias for the titles.\n",
                "> \n",
                "> _Minimum Desired Output:_  user\\_id and your aliased column of titles.\n",
                "\n",
                "**Part B:**  The longest list length is 15 titles total, and is shared by 4 different users.  Select one of the uses and print out their entire '**to read**' list."
            ],
            "metadata": {
                "azdata_cell_guid": "0b0090b0-2b28-44c6-8bb6-06b4c03c3ff1"
            },
            "attachments": {}
        },
        {
            "cell_type": "code",
            "source": [
                "-- Code Here:\r\n",
                "\r\n",
                "--Part A Code: \r\n",
                "SELECT TOP 10 tr.user_id AS 'Top Users (ID Num)', COUNT(b.title) AS 'Num to Read'\r\n",
                "FROM BooksDB.dbo.books as b \r\n",
                "INNER JOIN BooksDB.dbo.to_read AS tr ON tr.book_id = b.book_id\r\n",
                "GROUP BY tr.user_id\r\n",
                "ORDER BY 'Num to Read' DESC; \r\n",
                "\r\n",
                "--Part B Code:\r\n",
                "SELECT b.title\r\n",
                "FROM BooksDB.dbo.to_read AS tr\r\n",
                "INNER JOIN BooksDB.dbo.books AS b ON tr.book_id = b.best_book_id \r\n",
                "WHERE tr.user_id = '14771'"
            ],
            "metadata": {
                "azdata_cell_guid": "c6c815f8-890d-4163-be63-3d300e320597",
                "tags": [],
                "language": "sql"
            },
            "outputs": [
                {
                    "output_type": "display_data",
                    "data": {
                        "text/html": "(10 rows affected)"
                    },
                    "metadata": {}
                },
                {
                    "output_type": "display_data",
                    "data": {
                        "text/html": "(15 rows affected)"
                    },
                    "metadata": {}
                },
                {
                    "output_type": "display_data",
                    "data": {
                        "text/html": "Total execution time: 00:00:00.334"
                    },
                    "metadata": {}
                },
                {
                    "output_type": "execute_result",
                    "metadata": {},
                    "execution_count": 25,
                    "data": {
                        "application/vnd.dataresource+json": {
                            "schema": {
                                "fields": [
                                    {
                                        "name": "Top Users (ID Num)"
                                    },
                                    {
                                        "name": "Num to Read"
                                    }
                                ]
                            },
                            "data": [
                                {
                                    "0": "14771",
                                    "1": "15"
                                },
                                {
                                    "0": "12483",
                                    "1": "15"
                                },
                                {
                                    "0": "11932",
                                    "1": "15"
                                },
                                {
                                    "0": "38201",
                                    "1": "15"
                                },
                                {
                                    "0": "36923",
                                    "1": "14"
                                },
                                {
                                    "0": "41523",
                                    "1": "14"
                                },
                                {
                                    "0": "27933",
                                    "1": "14"
                                },
                                {
                                    "0": "37359",
                                    "1": "14"
                                },
                                {
                                    "0": "25734",
                                    "1": "13"
                                },
                                {
                                    "0": "51137",
                                    "1": "13"
                                }
                            ]
                        },
                        "text/html": [
                            "<table>",
                            "<tr><th>Top Users (ID Num)</th><th>Num to Read</th></tr>",
                            "<tr><td>14771</td><td>15</td></tr>",
                            "<tr><td>12483</td><td>15</td></tr>",
                            "<tr><td>11932</td><td>15</td></tr>",
                            "<tr><td>38201</td><td>15</td></tr>",
                            "<tr><td>36923</td><td>14</td></tr>",
                            "<tr><td>41523</td><td>14</td></tr>",
                            "<tr><td>27933</td><td>14</td></tr>",
                            "<tr><td>37359</td><td>14</td></tr>",
                            "<tr><td>25734</td><td>13</td></tr>",
                            "<tr><td>51137</td><td>13</td></tr>",
                            "</table>"
                        ]
                    }
                },
                {
                    "output_type": "execute_result",
                    "metadata": {},
                    "execution_count": 25,
                    "data": {
                        "application/vnd.dataresource+json": {
                            "schema": {
                                "fields": [
                                    {
                                        "name": "title"
                                    }
                                ]
                            },
                            "data": [
                                {
                                    "0": "The Fellowship of the Ring (The Lord of the Rings, #1)"
                                },
                                {
                                    "0": "Harry Potter and the Order of the Phoenix (Harry Potter, #5)"
                                },
                                {
                                    "0": "Harry Potter and the Goblet of Fire (Harry Potter, #4)"
                                },
                                {
                                    "0": "J.R.R. Tolkien 4-Book Boxed Set: The Hobbit and The Lord of the Rings"
                                },
                                {
                                    "0": "In a Sunburned Country"
                                },
                                {
                                    "0": "A Widow for One Year"
                                },
                                {
                                    "0": "Tropic of Cancer"
                                },
                                {
                                    "0": "The Iliad/The Odyssey"
                                },
                                {
                                    "0": "The Lost Continent: Travels in Small Town America"
                                },
                                {
                                    "0": "The New York Trilogy"
                                },
                                {
                                    "0": "The Lord of the Rings: The Art of The Fellowship of the Ring"
                                },
                                {
                                    "0": "The Known World"
                                },
                                {
                                    "0": "Ten Apples Up On Top!"
                                },
                                {
                                    "0": "Leviathan"
                                },
                                {
                                    "0": "What to Expect the First Year (What to Expect)"
                                }
                            ]
                        },
                        "text/html": [
                            "<table>",
                            "<tr><th>title</th></tr>",
                            "<tr><td>The Fellowship of the Ring (The Lord of the Rings, #1)</td></tr>",
                            "<tr><td>Harry Potter and the Order of the Phoenix (Harry Potter, #5)</td></tr>",
                            "<tr><td>Harry Potter and the Goblet of Fire (Harry Potter, #4)</td></tr>",
                            "<tr><td>J.R.R. Tolkien 4-Book Boxed Set: The Hobbit and The Lord of the Rings</td></tr>",
                            "<tr><td>In a Sunburned Country</td></tr>",
                            "<tr><td>A Widow for One Year</td></tr>",
                            "<tr><td>Tropic of Cancer</td></tr>",
                            "<tr><td>The Iliad/The Odyssey</td></tr>",
                            "<tr><td>The Lost Continent: Travels in Small Town America</td></tr>",
                            "<tr><td>The New York Trilogy</td></tr>",
                            "<tr><td>The Lord of the Rings: The Art of The Fellowship of the Ring</td></tr>",
                            "<tr><td>The Known World</td></tr>",
                            "<tr><td>Ten Apples Up On Top!</td></tr>",
                            "<tr><td>Leviathan</td></tr>",
                            "<tr><td>What to Expect the First Year (What to Expect)</td></tr>",
                            "</table>"
                        ]
                    }
                }
            ],
            "execution_count": 25
        }
    ]
}