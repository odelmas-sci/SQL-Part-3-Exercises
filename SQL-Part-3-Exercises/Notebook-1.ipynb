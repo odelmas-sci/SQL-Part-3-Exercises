{
    "metadata": {
        "kernelspec": {
            "name": "SQL",
            "display_name": "SQL",
            "language": "sql"
        },
        "language_info": {
            "name": "sql",
            "version": ""
        },
        "extensions": {
            "azuredatastudio": {
                "version": 1,
                "views": []
            }
        }
    },
    "nbformat_minor": 2,
    "nbformat": 4,
    "cells": [
        {
            "cell_type": "markdown",
            "source": [
                "# SQL Part 3 Exercises Joins\n",
                "\n",
                "This notebook works with the BooksDB dataset.  \n",
                "\n",
                "**Questions 1-4** focus on how joins work in a more general sense.  If you are not sure how to best answer the questions, try manipulating the queries by changing the order of joins, the length of the TOP, or how they are ordered.  \n",
                "\n",
                "> <span style=\"background-color: rgba(127, 127, 127, 0.1);\"><i>Note</i>: If some of the queries are not returning quickly, you can try closing and restarting azure data studio after a few minutes.</span>\n",
                "\n",
                "In **questions 5-8**, you will be asked to join tables to find results about titles, tags, and the books users want to read.\n",
                "\n",
                "As you go through the questions, you will see 'Minimum Desired Output'.  This will provide you with the bare minimum columns needed to answer the questions.  When you write the queries, add as many additional columns as you need to best find your answers."
            ],
            "metadata": {
                "azdata_cell_guid": "db9534a9-c8a7-4c09-8180-bcba0690bb02"
            },
            "attachments": {}
        },
        {
            "cell_type": "markdown",
            "source": [
                "## **QUESTION 1:**  Exploring a LEFT JOIN using the **books** and **to\\_read** tables\n",
                "\n",
                "The code block below has been commented out. To answer this question, you will need to uncomment it by removing the **/\\*** (line 1) and **\\*/** (line 16).\n",
                "\n",
                "**Part A:** Look at Query 1, which table is the 'Left' table and which is the 'Right'?\n",
                "\n",
                "> Your Answer:  Left table: books, Right table: to\\_read\n",
                "\n",
                "**Part B:** Using table 2, answer the following questions: \n",
                "\n",
                "- When we added a  '**WHERE tr.user\\_id IS NOT NULL'** clause (line 14), how did the table change?  Why?\n",
                "\n",
                "> Your Answer: The first table shows the top 50 books (title, avg rating, count, user\\_id and book\\_id) regardless of if the user\\_id is there or not. However, the second table uses the WHERE statement to filter out the null user\\_id's of the top 50 books."
            ],
            "metadata": {
                "azdata_cell_guid": "660be568-9a70-40ff-a2fa-a78e31e87b6f"
            },
            "attachments": {}
        },
        {
            "cell_type": "code",
            "source": [
                "\n",
                "-- Query 1: LEFT JOIN \n",
                "SELECT TOP 25 b.title, b.average_rating, b.books_count,tr.user_id, tr.book_id\n",
                "FROM BooksDB.dbo.books AS b\n",
                "LEFT JOIN BooksDB.dbo.to_read AS tr\n",
                "ON b.best_book_id = tr.book_id\n",
                "ORDER BY b.average_rating;\n",
                "\n",
                "-- Query 2: LEFT JOIN USING 'IS NOT NULL'\n",
                "SELECT TOP 25 b.title, b.average_rating, b.books_count,tr.user_id, tr.book_id\n",
                "FROM BooksDB.dbo.books AS b\n",
                "LEFT JOIN BooksDB.dbo.to_read AS tr\n",
                "ON b.best_book_id = tr.book_id\n",
                "WHERE tr.user_id IS NOT NULL\n",
                "ORDER BY b.average_rating;\n",
                ""
            ],
            "metadata": {
                "azdata_cell_guid": "25dcd34c-5e5d-4393-9da0-a4c0effb6455",
                "tags": [],
                "language": "sql"
            },
            "outputs": [
                {
                    "output_type": "display_data",
                    "data": {
                        "text/html": "(25 rows affected)"
                    },
                    "metadata": {}
                },
                {
                    "output_type": "display_data",
                    "data": {
                        "text/html": "(25 rows affected)"
                    },
                    "metadata": {}
                },
                {
                    "output_type": "display_data",
                    "data": {
                        "text/html": "Total execution time: 00:00:05.475"
                    },
                    "metadata": {}
                },
                {
                    "output_type": "execute_result",
                    "execution_count": 2,
                    "data": {
                        "application/vnd.dataresource+json": {
                            "schema": {
                                "fields": [
                                    {
                                        "name": "title"
                                    },
                                    {
                                        "name": "average_rating"
                                    },
                                    {
                                        "name": "books_count"
                                    },
                                    {
                                        "name": "user_id"
                                    },
                                    {
                                        "name": "book_id"
                                    }
                                ]
                            },
                            "data": [
                                {
                                    "0": "One Night at the Call Center",
                                    "1": "2.47",
                                    "2": "25",
                                    "3": "NULL",
                                    "4": "NULL"
                                },
                                {
                                    "0": "The Almost Moon",
                                    "1": "2.67",
                                    "2": "63",
                                    "3": "NULL",
                                    "4": "NULL"
                                },
                                {
                                    "0": "The Finkler Question",
                                    "1": "2.76",
                                    "2": "45",
                                    "3": "NULL",
                                    "4": "NULL"
                                },
                                {
                                    "0": "Four Blondes",
                                    "1": "2.8",
                                    "2": "57",
                                    "3": "449",
                                    "4": "6613"
                                },
                                {
                                    "0": "Four Blondes",
                                    "1": "2.8",
                                    "2": "57",
                                    "3": "1378",
                                    "4": "6613"
                                },
                                {
                                    "0": "Four Blondes",
                                    "1": "2.8",
                                    "2": "57",
                                    "3": "6465",
                                    "4": "6613"
                                },
                                {
                                    "0": "Four Blondes",
                                    "1": "2.8",
                                    "2": "57",
                                    "3": "6700",
                                    "4": "6613"
                                },
                                {
                                    "0": "Four Blondes",
                                    "1": "2.8",
                                    "2": "57",
                                    "3": "7830",
                                    "4": "6613"
                                },
                                {
                                    "0": "Four Blondes",
                                    "1": "2.8",
                                    "2": "57",
                                    "3": "10085",
                                    "4": "6613"
                                },
                                {
                                    "0": "Four Blondes",
                                    "1": "2.8",
                                    "2": "57",
                                    "3": "16298",
                                    "4": "6613"
                                },
                                {
                                    "0": "Four Blondes",
                                    "1": "2.8",
                                    "2": "57",
                                    "3": "16845",
                                    "4": "6613"
                                },
                                {
                                    "0": "Four Blondes",
                                    "1": "2.8",
                                    "2": "57",
                                    "3": "17470",
                                    "4": "6613"
                                },
                                {
                                    "0": "Four Blondes",
                                    "1": "2.8",
                                    "2": "57",
                                    "3": "19763",
                                    "4": "6613"
                                },
                                {
                                    "0": "Four Blondes",
                                    "1": "2.8",
                                    "2": "57",
                                    "3": "21938",
                                    "4": "6613"
                                },
                                {
                                    "0": "Four Blondes",
                                    "1": "2.8",
                                    "2": "57",
                                    "3": "22289",
                                    "4": "6613"
                                },
                                {
                                    "0": "Four Blondes",
                                    "1": "2.8",
                                    "2": "57",
                                    "3": "23758",
                                    "4": "6613"
                                },
                                {
                                    "0": "Four Blondes",
                                    "1": "2.8",
                                    "2": "57",
                                    "3": "27874",
                                    "4": "6613"
                                },
                                {
                                    "0": "Four Blondes",
                                    "1": "2.8",
                                    "2": "57",
                                    "3": "28690",
                                    "4": "6613"
                                },
                                {
                                    "0": "Four Blondes",
                                    "1": "2.8",
                                    "2": "57",
                                    "3": "29023",
                                    "4": "6613"
                                },
                                {
                                    "0": "Four Blondes",
                                    "1": "2.8",
                                    "2": "57",
                                    "3": "29315",
                                    "4": "6613"
                                },
                                {
                                    "0": "Four Blondes",
                                    "1": "2.8",
                                    "2": "57",
                                    "3": "30245",
                                    "4": "6613"
                                },
                                {
                                    "0": "Four Blondes",
                                    "1": "2.8",
                                    "2": "57",
                                    "3": "36128",
                                    "4": "6613"
                                },
                                {
                                    "0": "Four Blondes",
                                    "1": "2.8",
                                    "2": "57",
                                    "3": "36554",
                                    "4": "6613"
                                },
                                {
                                    "0": "Four Blondes",
                                    "1": "2.8",
                                    "2": "57",
                                    "3": "38159",
                                    "4": "6613"
                                },
                                {
                                    "0": "Four Blondes",
                                    "1": "2.8",
                                    "2": "57",
                                    "3": "38800",
                                    "4": "6613"
                                }
                            ]
                        },
                        "text/html": "<table><tr><th>title</th><th>average_rating</th><th>books_count</th><th>user_id</th><th>book_id</th></tr><tr><td>One Night at the Call Center</td><td>2.47</td><td>25</td><td>NULL</td><td>NULL</td></tr><tr><td>The Almost Moon</td><td>2.67</td><td>63</td><td>NULL</td><td>NULL</td></tr><tr><td>The Finkler Question</td><td>2.76</td><td>45</td><td>NULL</td><td>NULL</td></tr><tr><td>Four Blondes</td><td>2.8</td><td>57</td><td>449</td><td>6613</td></tr><tr><td>Four Blondes</td><td>2.8</td><td>57</td><td>1378</td><td>6613</td></tr><tr><td>Four Blondes</td><td>2.8</td><td>57</td><td>6465</td><td>6613</td></tr><tr><td>Four Blondes</td><td>2.8</td><td>57</td><td>6700</td><td>6613</td></tr><tr><td>Four Blondes</td><td>2.8</td><td>57</td><td>7830</td><td>6613</td></tr><tr><td>Four Blondes</td><td>2.8</td><td>57</td><td>10085</td><td>6613</td></tr><tr><td>Four Blondes</td><td>2.8</td><td>57</td><td>16298</td><td>6613</td></tr><tr><td>Four Blondes</td><td>2.8</td><td>57</td><td>16845</td><td>6613</td></tr><tr><td>Four Blondes</td><td>2.8</td><td>57</td><td>17470</td><td>6613</td></tr><tr><td>Four Blondes</td><td>2.8</td><td>57</td><td>19763</td><td>6613</td></tr><tr><td>Four Blondes</td><td>2.8</td><td>57</td><td>21938</td><td>6613</td></tr><tr><td>Four Blondes</td><td>2.8</td><td>57</td><td>22289</td><td>6613</td></tr><tr><td>Four Blondes</td><td>2.8</td><td>57</td><td>23758</td><td>6613</td></tr><tr><td>Four Blondes</td><td>2.8</td><td>57</td><td>27874</td><td>6613</td></tr><tr><td>Four Blondes</td><td>2.8</td><td>57</td><td>28690</td><td>6613</td></tr><tr><td>Four Blondes</td><td>2.8</td><td>57</td><td>29023</td><td>6613</td></tr><tr><td>Four Blondes</td><td>2.8</td><td>57</td><td>29315</td><td>6613</td></tr><tr><td>Four Blondes</td><td>2.8</td><td>57</td><td>30245</td><td>6613</td></tr><tr><td>Four Blondes</td><td>2.8</td><td>57</td><td>36128</td><td>6613</td></tr><tr><td>Four Blondes</td><td>2.8</td><td>57</td><td>36554</td><td>6613</td></tr><tr><td>Four Blondes</td><td>2.8</td><td>57</td><td>38159</td><td>6613</td></tr><tr><td>Four Blondes</td><td>2.8</td><td>57</td><td>38800</td><td>6613</td></tr></table>"
                    },
                    "metadata": {}
                },
                {
                    "output_type": "execute_result",
                    "execution_count": 2,
                    "data": {
                        "application/vnd.dataresource+json": {
                            "schema": {
                                "fields": [
                                    {
                                        "name": "title"
                                    },
                                    {
                                        "name": "average_rating"
                                    },
                                    {
                                        "name": "books_count"
                                    },
                                    {
                                        "name": "user_id"
                                    },
                                    {
                                        "name": "book_id"
                                    }
                                ]
                            },
                            "data": [
                                {
                                    "0": "Four Blondes",
                                    "1": "2.8",
                                    "2": "57",
                                    "3": "449",
                                    "4": "6613"
                                },
                                {
                                    "0": "Four Blondes",
                                    "1": "2.8",
                                    "2": "57",
                                    "3": "1378",
                                    "4": "6613"
                                },
                                {
                                    "0": "Four Blondes",
                                    "1": "2.8",
                                    "2": "57",
                                    "3": "6465",
                                    "4": "6613"
                                },
                                {
                                    "0": "Four Blondes",
                                    "1": "2.8",
                                    "2": "57",
                                    "3": "6700",
                                    "4": "6613"
                                },
                                {
                                    "0": "Four Blondes",
                                    "1": "2.8",
                                    "2": "57",
                                    "3": "7830",
                                    "4": "6613"
                                },
                                {
                                    "0": "Four Blondes",
                                    "1": "2.8",
                                    "2": "57",
                                    "3": "10085",
                                    "4": "6613"
                                },
                                {
                                    "0": "Four Blondes",
                                    "1": "2.8",
                                    "2": "57",
                                    "3": "16298",
                                    "4": "6613"
                                },
                                {
                                    "0": "Four Blondes",
                                    "1": "2.8",
                                    "2": "57",
                                    "3": "16845",
                                    "4": "6613"
                                },
                                {
                                    "0": "Four Blondes",
                                    "1": "2.8",
                                    "2": "57",
                                    "3": "17470",
                                    "4": "6613"
                                },
                                {
                                    "0": "Four Blondes",
                                    "1": "2.8",
                                    "2": "57",
                                    "3": "19763",
                                    "4": "6613"
                                },
                                {
                                    "0": "Four Blondes",
                                    "1": "2.8",
                                    "2": "57",
                                    "3": "21938",
                                    "4": "6613"
                                },
                                {
                                    "0": "Four Blondes",
                                    "1": "2.8",
                                    "2": "57",
                                    "3": "22289",
                                    "4": "6613"
                                },
                                {
                                    "0": "Four Blondes",
                                    "1": "2.8",
                                    "2": "57",
                                    "3": "23758",
                                    "4": "6613"
                                },
                                {
                                    "0": "Four Blondes",
                                    "1": "2.8",
                                    "2": "57",
                                    "3": "27874",
                                    "4": "6613"
                                },
                                {
                                    "0": "Four Blondes",
                                    "1": "2.8",
                                    "2": "57",
                                    "3": "28690",
                                    "4": "6613"
                                },
                                {
                                    "0": "Four Blondes",
                                    "1": "2.8",
                                    "2": "57",
                                    "3": "29023",
                                    "4": "6613"
                                },
                                {
                                    "0": "Four Blondes",
                                    "1": "2.8",
                                    "2": "57",
                                    "3": "29315",
                                    "4": "6613"
                                },
                                {
                                    "0": "Four Blondes",
                                    "1": "2.8",
                                    "2": "57",
                                    "3": "30245",
                                    "4": "6613"
                                },
                                {
                                    "0": "Four Blondes",
                                    "1": "2.8",
                                    "2": "57",
                                    "3": "36128",
                                    "4": "6613"
                                },
                                {
                                    "0": "Four Blondes",
                                    "1": "2.8",
                                    "2": "57",
                                    "3": "36554",
                                    "4": "6613"
                                },
                                {
                                    "0": "Four Blondes",
                                    "1": "2.8",
                                    "2": "57",
                                    "3": "38159",
                                    "4": "6613"
                                },
                                {
                                    "0": "Four Blondes",
                                    "1": "2.8",
                                    "2": "57",
                                    "3": "38800",
                                    "4": "6613"
                                },
                                {
                                    "0": "Four Blondes",
                                    "1": "2.8",
                                    "2": "57",
                                    "3": "40361",
                                    "4": "6613"
                                },
                                {
                                    "0": "Four Blondes",
                                    "1": "2.8",
                                    "2": "57",
                                    "3": "40529",
                                    "4": "6613"
                                },
                                {
                                    "0": "Four Blondes",
                                    "1": "2.8",
                                    "2": "57",
                                    "3": "41485",
                                    "4": "6613"
                                }
                            ]
                        },
                        "text/html": "<table><tr><th>title</th><th>average_rating</th><th>books_count</th><th>user_id</th><th>book_id</th></tr><tr><td>Four Blondes</td><td>2.8</td><td>57</td><td>449</td><td>6613</td></tr><tr><td>Four Blondes</td><td>2.8</td><td>57</td><td>1378</td><td>6613</td></tr><tr><td>Four Blondes</td><td>2.8</td><td>57</td><td>6465</td><td>6613</td></tr><tr><td>Four Blondes</td><td>2.8</td><td>57</td><td>6700</td><td>6613</td></tr><tr><td>Four Blondes</td><td>2.8</td><td>57</td><td>7830</td><td>6613</td></tr><tr><td>Four Blondes</td><td>2.8</td><td>57</td><td>10085</td><td>6613</td></tr><tr><td>Four Blondes</td><td>2.8</td><td>57</td><td>16298</td><td>6613</td></tr><tr><td>Four Blondes</td><td>2.8</td><td>57</td><td>16845</td><td>6613</td></tr><tr><td>Four Blondes</td><td>2.8</td><td>57</td><td>17470</td><td>6613</td></tr><tr><td>Four Blondes</td><td>2.8</td><td>57</td><td>19763</td><td>6613</td></tr><tr><td>Four Blondes</td><td>2.8</td><td>57</td><td>21938</td><td>6613</td></tr><tr><td>Four Blondes</td><td>2.8</td><td>57</td><td>22289</td><td>6613</td></tr><tr><td>Four Blondes</td><td>2.8</td><td>57</td><td>23758</td><td>6613</td></tr><tr><td>Four Blondes</td><td>2.8</td><td>57</td><td>27874</td><td>6613</td></tr><tr><td>Four Blondes</td><td>2.8</td><td>57</td><td>28690</td><td>6613</td></tr><tr><td>Four Blondes</td><td>2.8</td><td>57</td><td>29023</td><td>6613</td></tr><tr><td>Four Blondes</td><td>2.8</td><td>57</td><td>29315</td><td>6613</td></tr><tr><td>Four Blondes</td><td>2.8</td><td>57</td><td>30245</td><td>6613</td></tr><tr><td>Four Blondes</td><td>2.8</td><td>57</td><td>36128</td><td>6613</td></tr><tr><td>Four Blondes</td><td>2.8</td><td>57</td><td>36554</td><td>6613</td></tr><tr><td>Four Blondes</td><td>2.8</td><td>57</td><td>38159</td><td>6613</td></tr><tr><td>Four Blondes</td><td>2.8</td><td>57</td><td>38800</td><td>6613</td></tr><tr><td>Four Blondes</td><td>2.8</td><td>57</td><td>40361</td><td>6613</td></tr><tr><td>Four Blondes</td><td>2.8</td><td>57</td><td>40529</td><td>6613</td></tr><tr><td>Four Blondes</td><td>2.8</td><td>57</td><td>41485</td><td>6613</td></tr></table>"
                    },
                    "metadata": {}
                }
            ],
            "execution_count": 2
        },
        {
            "cell_type": "markdown",
            "source": [
                "## **QUESTION 2:** Exploring **RIGHT** joins with the **books** and **to\\_read** tables\n",
                "\n",
                "You will need to uncomment the Query to answer the question.\n",
                "\n",
                "**Part A:** Looking at the query, which table is the 'Left' and which is the 'Right'?\n",
                "\n",
                "> Your Answer: Left if books and right is to\\_read\n",
                "\n",
                "**Part B:** How do the RIGHT-joined tables differ from the LEFT-joined tables in Question 1?  \n",
                "\n",
                "> Your Answer: Right Join is going to take all elements from the right table(to\\_read) and fill in NULL for the left table if they're missing"
            ],
            "metadata": {
                "azdata_cell_guid": "c1e417d9-89d2-4a7d-ab46-b43c8bddc54f"
            },
            "attachments": {}
        },
        {
            "cell_type": "code",
            "source": [
                "\n",
                "-- Query 1: RIGHT JOIN\n",
                "SELECT TOP 30 b.title, b.average_rating, b.books_count, tr.user_id, tr.book_id\n",
                "FROM BooksDB.dbo.books AS b\n",
                "RIGHT JOIN BooksDB.dbo.to_read AS tr\n",
                "ON b.best_book_id = tr.book_id;\n",
                ""
            ],
            "metadata": {
                "azdata_cell_guid": "8cf020b8-2a76-46a6-acff-97eb1acc7fed",
                "tags": [],
                "language": "sql"
            },
            "outputs": [
                {
                    "output_type": "display_data",
                    "data": {
                        "text/html": "(30 rows affected)"
                    },
                    "metadata": {}
                },
                {
                    "output_type": "display_data",
                    "data": {
                        "text/html": "Total execution time: 00:00:00.130"
                    },
                    "metadata": {}
                },
                {
                    "output_type": "execute_result",
                    "metadata": {},
                    "execution_count": 114,
                    "data": {
                        "application/vnd.dataresource+json": {
                            "schema": {
                                "fields": [
                                    {
                                        "name": "title"
                                    },
                                    {
                                        "name": "average_rating"
                                    },
                                    {
                                        "name": "books_count"
                                    },
                                    {
                                        "name": "user_id"
                                    },
                                    {
                                        "name": "book_id"
                                    }
                                ]
                            },
                            "data": [
                                {
                                    "0": "Children of Dune (Dune Chronicles #3)",
                                    "1": "3.9",
                                    "2": "116",
                                    "3": "1",
                                    "4": "112"
                                },
                                {
                                    "0": "NULL",
                                    "1": "NULL",
                                    "2": "NULL",
                                    "3": "1",
                                    "4": "235"
                                },
                                {
                                    "0": "NULL",
                                    "1": "NULL",
                                    "2": "NULL",
                                    "3": "1",
                                    "4": "533"
                                },
                                {
                                    "0": "NULL",
                                    "1": "NULL",
                                    "2": "NULL",
                                    "3": "1",
                                    "4": "1198"
                                },
                                {
                                    "0": "NULL",
                                    "1": "NULL",
                                    "2": "NULL",
                                    "3": "1",
                                    "4": "1874"
                                },
                                {
                                    "0": "NULL",
                                    "1": "NULL",
                                    "2": "NULL",
                                    "3": "1",
                                    "4": "2058"
                                },
                                {
                                    "0": "NULL",
                                    "1": "NULL",
                                    "2": "NULL",
                                    "3": "1",
                                    "4": "3334"
                                },
                                {
                                    "0": "NULL",
                                    "1": "NULL",
                                    "2": "NULL",
                                    "3": "2",
                                    "4": "4"
                                },
                                {
                                    "0": "NULL",
                                    "1": "NULL",
                                    "2": "NULL",
                                    "3": "2",
                                    "4": "11"
                                },
                                {
                                    "0": "The Ultimate Hitchhiker's Guide to the Galaxy",
                                    "1": "4.37",
                                    "2": "32",
                                    "3": "2",
                                    "4": "13"
                                },
                                {
                                    "0": "NULL",
                                    "1": "NULL",
                                    "2": "NULL",
                                    "3": "2",
                                    "4": "16"
                                },
                                {
                                    "0": "NULL",
                                    "1": "NULL",
                                    "2": "NULL",
                                    "3": "2",
                                    "4": "92"
                                },
                                {
                                    "0": "Dune Messiah (Dune Chronicles #2)",
                                    "1": "3.86",
                                    "2": "140",
                                    "3": "2",
                                    "4": "106"
                                },
                                {
                                    "0": "NULL",
                                    "1": "NULL",
                                    "2": "NULL",
                                    "3": "2",
                                    "4": "113"
                                },
                                {
                                    "0": "NULL",
                                    "1": "NULL",
                                    "2": "NULL",
                                    "3": "2",
                                    "4": "233"
                                },
                                {
                                    "0": "NULL",
                                    "1": "NULL",
                                    "2": "NULL",
                                    "3": "2",
                                    "4": "247"
                                },
                                {
                                    "0": "NULL",
                                    "1": "NULL",
                                    "2": "NULL",
                                    "3": "2",
                                    "4": "380"
                                },
                                {
                                    "0": "NULL",
                                    "1": "NULL",
                                    "2": "NULL",
                                    "3": "2",
                                    "4": "408"
                                },
                                {
                                    "0": "NULL",
                                    "1": "NULL",
                                    "2": "NULL",
                                    "3": "2",
                                    "4": "439"
                                },
                                {
                                    "0": "NULL",
                                    "1": "NULL",
                                    "2": "NULL",
                                    "3": "2",
                                    "4": "479"
                                },
                                {
                                    "0": "NULL",
                                    "1": "NULL",
                                    "2": "NULL",
                                    "3": "2",
                                    "4": "516"
                                },
                                {
                                    "0": "NULL",
                                    "1": "NULL",
                                    "2": "NULL",
                                    "3": "2",
                                    "4": "619"
                                },
                                {
                                    "0": "NULL",
                                    "1": "NULL",
                                    "2": "NULL",
                                    "3": "2",
                                    "4": "1069"
                                },
                                {
                                    "0": "The Iliad",
                                    "1": "3.83",
                                    "2": "1726",
                                    "3": "2",
                                    "4": "1371"
                                },
                                {
                                    "0": "NULL",
                                    "1": "NULL",
                                    "2": "NULL",
                                    "3": "2",
                                    "4": "1384"
                                },
                                {
                                    "0": "NULL",
                                    "1": "NULL",
                                    "2": "NULL",
                                    "3": "2",
                                    "4": "1597"
                                },
                                {
                                    "0": "NULL",
                                    "1": "NULL",
                                    "2": "NULL",
                                    "3": "2",
                                    "4": "1926"
                                },
                                {
                                    "0": "NULL",
                                    "1": "NULL",
                                    "2": "NULL",
                                    "3": "2",
                                    "4": "1967"
                                },
                                {
                                    "0": "NULL",
                                    "1": "NULL",
                                    "2": "NULL",
                                    "3": "2",
                                    "4": "1969"
                                },
                                {
                                    "0": "NULL",
                                    "1": "NULL",
                                    "2": "NULL",
                                    "3": "2",
                                    "4": "2220"
                                }
                            ]
                        },
                        "text/html": [
                            "<table>",
                            "<tr><th>title</th><th>average_rating</th><th>books_count</th><th>user_id</th><th>book_id</th></tr>",
                            "<tr><td>Children of Dune (Dune Chronicles #3)</td><td>3.9</td><td>116</td><td>1</td><td>112</td></tr>",
                            "<tr><td>NULL</td><td>NULL</td><td>NULL</td><td>1</td><td>235</td></tr>",
                            "<tr><td>NULL</td><td>NULL</td><td>NULL</td><td>1</td><td>533</td></tr>",
                            "<tr><td>NULL</td><td>NULL</td><td>NULL</td><td>1</td><td>1198</td></tr>",
                            "<tr><td>NULL</td><td>NULL</td><td>NULL</td><td>1</td><td>1874</td></tr>",
                            "<tr><td>NULL</td><td>NULL</td><td>NULL</td><td>1</td><td>2058</td></tr>",
                            "<tr><td>NULL</td><td>NULL</td><td>NULL</td><td>1</td><td>3334</td></tr>",
                            "<tr><td>NULL</td><td>NULL</td><td>NULL</td><td>2</td><td>4</td></tr>",
                            "<tr><td>NULL</td><td>NULL</td><td>NULL</td><td>2</td><td>11</td></tr>",
                            "<tr><td>The Ultimate Hitchhiker's Guide to the Galaxy</td><td>4.37</td><td>32</td><td>2</td><td>13</td></tr>",
                            "<tr><td>NULL</td><td>NULL</td><td>NULL</td><td>2</td><td>16</td></tr>",
                            "<tr><td>NULL</td><td>NULL</td><td>NULL</td><td>2</td><td>92</td></tr>",
                            "<tr><td>Dune Messiah (Dune Chronicles #2)</td><td>3.86</td><td>140</td><td>2</td><td>106</td></tr>",
                            "<tr><td>NULL</td><td>NULL</td><td>NULL</td><td>2</td><td>113</td></tr>",
                            "<tr><td>NULL</td><td>NULL</td><td>NULL</td><td>2</td><td>233</td></tr>",
                            "<tr><td>NULL</td><td>NULL</td><td>NULL</td><td>2</td><td>247</td></tr>",
                            "<tr><td>NULL</td><td>NULL</td><td>NULL</td><td>2</td><td>380</td></tr>",
                            "<tr><td>NULL</td><td>NULL</td><td>NULL</td><td>2</td><td>408</td></tr>",
                            "<tr><td>NULL</td><td>NULL</td><td>NULL</td><td>2</td><td>439</td></tr>",
                            "<tr><td>NULL</td><td>NULL</td><td>NULL</td><td>2</td><td>479</td></tr>",
                            "<tr><td>NULL</td><td>NULL</td><td>NULL</td><td>2</td><td>516</td></tr>",
                            "<tr><td>NULL</td><td>NULL</td><td>NULL</td><td>2</td><td>619</td></tr>",
                            "<tr><td>NULL</td><td>NULL</td><td>NULL</td><td>2</td><td>1069</td></tr>",
                            "<tr><td>The Iliad</td><td>3.83</td><td>1726</td><td>2</td><td>1371</td></tr>",
                            "<tr><td>NULL</td><td>NULL</td><td>NULL</td><td>2</td><td>1384</td></tr>",
                            "<tr><td>NULL</td><td>NULL</td><td>NULL</td><td>2</td><td>1597</td></tr>",
                            "<tr><td>NULL</td><td>NULL</td><td>NULL</td><td>2</td><td>1926</td></tr>",
                            "<tr><td>NULL</td><td>NULL</td><td>NULL</td><td>2</td><td>1967</td></tr>",
                            "<tr><td>NULL</td><td>NULL</td><td>NULL</td><td>2</td><td>1969</td></tr>",
                            "<tr><td>NULL</td><td>NULL</td><td>NULL</td><td>2</td><td>2220</td></tr>",
                            "</table>"
                        ]
                    }
                }
            ],
            "execution_count": 114
        },
        {
            "cell_type": "markdown",
            "source": [
                "## **QUESTION 3:** Exploring FULL JOINS with the **books** and **to\\_read** tables\n",
                "\n",
                "You will need to uncomment the Query to answer the question.\n",
                "\n",
                "**Part A:**  Look at the table and explore how it was populated.  Try manipulating the query to better understand how this table works.  Try adding a WHERE clause, or ORDER BY a column on the **books** table.  Based on your exploration, can you think of when you might want a FULL join rather than a LEFT, RIGHT, or INNER?\n",
                "\n",
                "> Your Answer: It's helpful seeing all the information, even if there are missing values in either the Left or Right tables. Using a Full Join makes it less likely that you will miss a row that could be important information."
            ],
            "metadata": {
                "azdata_cell_guid": "8f6b8f22-3e5a-4b87-a2f2-07279f1deb94"
            },
            "attachments": {}
        },
        {
            "cell_type": "code",
            "source": [
                "\n",
                "-- FULL JOIN\n",
                "SELECT TOP 10 b.title, b.average_rating, b.books_count,tr.user_id, tr.book_id\n",
                "FROM BooksDB.dbo.books AS b\n",
                "FULL JOIN BooksDB.dbo.to_read AS tr\n",
                "ON b.book_id = tr.book_id\n",
                "WHERE b.title IS NOT NULL\n",
                "ORDER BY average_rating DESC;"
            ],
            "metadata": {
                "azdata_cell_guid": "7c2a3dff-ef55-4222-aef0-7c0ab4f942eb",
                "tags": [],
                "language": "sql"
            },
            "outputs": [
                {
                    "output_type": "display_data",
                    "data": {
                        "text/html": "(10 rows affected)"
                    },
                    "metadata": {}
                },
                {
                    "output_type": "display_data",
                    "data": {
                        "text/html": "Total execution time: 00:00:02.326"
                    },
                    "metadata": {}
                },
                {
                    "output_type": "execute_result",
                    "metadata": {},
                    "execution_count": 113,
                    "data": {
                        "application/vnd.dataresource+json": {
                            "schema": {
                                "fields": [
                                    {
                                        "name": "title"
                                    },
                                    {
                                        "name": "average_rating"
                                    },
                                    {
                                        "name": "books_count"
                                    },
                                    {
                                        "name": "user_id"
                                    },
                                    {
                                        "name": "book_id"
                                    }
                                ]
                            },
                            "data": [
                                {
                                    "0": "The Complete Calvin and Hobbes",
                                    "1": "4.82",
                                    "2": "14",
                                    "3": "NULL",
                                    "4": "NULL"
                                },
                                {
                                    "0": "Words of Radiance (The Stormlight Archive, #2)",
                                    "1": "4.77",
                                    "2": "34",
                                    "3": "NULL",
                                    "4": "NULL"
                                },
                                {
                                    "0": "Harry Potter Boxed Set, Books 1-5 (Harry Potter, #1-5)",
                                    "1": "4.77",
                                    "2": "11",
                                    "3": "9",
                                    "4": "8"
                                },
                                {
                                    "0": "Harry Potter Boxed Set, Books 1-5 (Harry Potter, #1-5)",
                                    "1": "4.77",
                                    "2": "11",
                                    "3": "245",
                                    "4": "8"
                                },
                                {
                                    "0": "Harry Potter Boxed Set, Books 1-5 (Harry Potter, #1-5)",
                                    "1": "4.77",
                                    "2": "11",
                                    "3": "265",
                                    "4": "8"
                                },
                                {
                                    "0": "Harry Potter Boxed Set, Books 1-5 (Harry Potter, #1-5)",
                                    "1": "4.77",
                                    "2": "11",
                                    "3": "318",
                                    "4": "8"
                                },
                                {
                                    "0": "Harry Potter Boxed Set, Books 1-5 (Harry Potter, #1-5)",
                                    "1": "4.77",
                                    "2": "11",
                                    "3": "361",
                                    "4": "8"
                                },
                                {
                                    "0": "Harry Potter Boxed Set, Books 1-5 (Harry Potter, #1-5)",
                                    "1": "4.77",
                                    "2": "11",
                                    "3": "422",
                                    "4": "8"
                                },
                                {
                                    "0": "Harry Potter Boxed Set, Books 1-5 (Harry Potter, #1-5)",
                                    "1": "4.77",
                                    "2": "11",
                                    "3": "435",
                                    "4": "8"
                                },
                                {
                                    "0": "Harry Potter Boxed Set, Books 1-5 (Harry Potter, #1-5)",
                                    "1": "4.77",
                                    "2": "11",
                                    "3": "457",
                                    "4": "8"
                                }
                            ]
                        },
                        "text/html": [
                            "<table>",
                            "<tr><th>title</th><th>average_rating</th><th>books_count</th><th>user_id</th><th>book_id</th></tr>",
                            "<tr><td>The Complete Calvin and Hobbes</td><td>4.82</td><td>14</td><td>NULL</td><td>NULL</td></tr>",
                            "<tr><td>Words of Radiance (The Stormlight Archive, #2)</td><td>4.77</td><td>34</td><td>NULL</td><td>NULL</td></tr>",
                            "<tr><td>Harry Potter Boxed Set, Books 1-5 (Harry Potter, #1-5)</td><td>4.77</td><td>11</td><td>9</td><td>8</td></tr>",
                            "<tr><td>Harry Potter Boxed Set, Books 1-5 (Harry Potter, #1-5)</td><td>4.77</td><td>11</td><td>245</td><td>8</td></tr>",
                            "<tr><td>Harry Potter Boxed Set, Books 1-5 (Harry Potter, #1-5)</td><td>4.77</td><td>11</td><td>265</td><td>8</td></tr>",
                            "<tr><td>Harry Potter Boxed Set, Books 1-5 (Harry Potter, #1-5)</td><td>4.77</td><td>11</td><td>318</td><td>8</td></tr>",
                            "<tr><td>Harry Potter Boxed Set, Books 1-5 (Harry Potter, #1-5)</td><td>4.77</td><td>11</td><td>361</td><td>8</td></tr>",
                            "<tr><td>Harry Potter Boxed Set, Books 1-5 (Harry Potter, #1-5)</td><td>4.77</td><td>11</td><td>422</td><td>8</td></tr>",
                            "<tr><td>Harry Potter Boxed Set, Books 1-5 (Harry Potter, #1-5)</td><td>4.77</td><td>11</td><td>435</td><td>8</td></tr>",
                            "<tr><td>Harry Potter Boxed Set, Books 1-5 (Harry Potter, #1-5)</td><td>4.77</td><td>11</td><td>457</td><td>8</td></tr>",
                            "</table>"
                        ]
                    }
                }
            ],
            "execution_count": 113
        },
        {
            "cell_type": "markdown",
            "source": [
                "## **QUESTION 4:** Exploring INNER Joins with the **books** and **to\\_read** tables\n",
                "\n",
                "You will need to uncomment the Query to answer the question.\n",
                "\n",
                "**Part A:**  What does an inner join do?\n",
                "\n",
                "> <span style=\"background-color: rgba(127, 127, 127, 0.1); font-family: -apple-system, BlinkMacSystemFont, sans-serif;\">Your Answer: Inner Join takes two tables' common elements and combines them into one table.&nbsp;</span> \n",
                "\n",
                "<span style=\"background-color: rgba(127, 127, 127, 0.1); font-family: -apple-system, BlinkMacSystemFont, sans-serif;\"><b>Part B:</b>&nbsp;Currently this table has an <b>'IS NOT NULL'</b> in the <b>WHERE</b> clause.&nbsp; Is this necessary for this table?&nbsp; Why or Why not?&nbsp;</span> \n",
                "\n",
                "> Your Answer: No because an inner join will not add elements to the joined table that aren't in both original tables.\n",
                "\n",
                "**Part C:**  When using SQL, you are usually returning much larger tables so every line of code will add to the compilation and return time.  Rewrite this inner join query so that it contains no redundant code.   \n",
                "\n",
                "> Your Answer:  Update the query in the code box below."
            ],
            "metadata": {
                "azdata_cell_guid": "4dab11ce-7995-4444-92dd-4cb2c0bc02c8"
            },
            "attachments": {}
        },
        {
            "cell_type": "code",
            "source": [
                "\n",
                "-- INNER JOIN\n",
                "SELECT TOP 10 b.title, b.average_rating, b.books_count,tr.user_id, tr.book_id\n",
                "FROM BooksDB.dbo.books AS b\n",
                "INNER JOIN BooksDB.dbo.to_read AS tr\n",
                "ON b.book_id = tr.book_id\n",
                "ORDER BY tr.book_id;\n",
                ""
            ],
            "metadata": {
                "azdata_cell_guid": "66d430ab-18aa-4a29-a32d-0585445e417c",
                "tags": [],
                "language": "sql"
            },
            "outputs": [
                {
                    "output_type": "display_data",
                    "data": {
                        "text/html": "(10 rows affected)"
                    },
                    "metadata": {}
                },
                {
                    "output_type": "display_data",
                    "data": {
                        "text/html": "Total execution time: 00:00:00.077"
                    },
                    "metadata": {}
                },
                {
                    "output_type": "execute_result",
                    "metadata": {},
                    "execution_count": 112,
                    "data": {
                        "application/vnd.dataresource+json": {
                            "schema": {
                                "fields": [
                                    {
                                        "name": "title"
                                    },
                                    {
                                        "name": "average_rating"
                                    },
                                    {
                                        "name": "books_count"
                                    },
                                    {
                                        "name": "user_id"
                                    },
                                    {
                                        "name": "book_id"
                                    }
                                ]
                            },
                            "data": [
                                {
                                    "0": "Harry Potter and the Half-Blood Prince (Harry Potter, #6)",
                                    "1": "4.54",
                                    "2": "275",
                                    "3": "12",
                                    "4": "1"
                                },
                                {
                                    "0": "Harry Potter and the Half-Blood Prince (Harry Potter, #6)",
                                    "1": "4.54",
                                    "2": "275",
                                    "3": "192",
                                    "4": "1"
                                },
                                {
                                    "0": "Harry Potter and the Half-Blood Prince (Harry Potter, #6)",
                                    "1": "4.54",
                                    "2": "275",
                                    "3": "202",
                                    "4": "1"
                                },
                                {
                                    "0": "Harry Potter and the Half-Blood Prince (Harry Potter, #6)",
                                    "1": "4.54",
                                    "2": "275",
                                    "3": "244",
                                    "4": "1"
                                },
                                {
                                    "0": "Harry Potter and the Half-Blood Prince (Harry Potter, #6)",
                                    "1": "4.54",
                                    "2": "275",
                                    "3": "253",
                                    "4": "1"
                                },
                                {
                                    "0": "Harry Potter and the Half-Blood Prince (Harry Potter, #6)",
                                    "1": "4.54",
                                    "2": "275",
                                    "3": "350",
                                    "4": "1"
                                },
                                {
                                    "0": "Harry Potter and the Half-Blood Prince (Harry Potter, #6)",
                                    "1": "4.54",
                                    "2": "275",
                                    "3": "478",
                                    "4": "1"
                                },
                                {
                                    "0": "Harry Potter and the Half-Blood Prince (Harry Potter, #6)",
                                    "1": "4.54",
                                    "2": "275",
                                    "3": "511",
                                    "4": "1"
                                },
                                {
                                    "0": "Harry Potter and the Half-Blood Prince (Harry Potter, #6)",
                                    "1": "4.54",
                                    "2": "275",
                                    "3": "525",
                                    "4": "1"
                                },
                                {
                                    "0": "Harry Potter and the Half-Blood Prince (Harry Potter, #6)",
                                    "1": "4.54",
                                    "2": "275",
                                    "3": "527",
                                    "4": "1"
                                }
                            ]
                        },
                        "text/html": [
                            "<table>",
                            "<tr><th>title</th><th>average_rating</th><th>books_count</th><th>user_id</th><th>book_id</th></tr>",
                            "<tr><td>Harry Potter and the Half-Blood Prince (Harry Potter, #6)</td><td>4.54</td><td>275</td><td>12</td><td>1</td></tr>",
                            "<tr><td>Harry Potter and the Half-Blood Prince (Harry Potter, #6)</td><td>4.54</td><td>275</td><td>192</td><td>1</td></tr>",
                            "<tr><td>Harry Potter and the Half-Blood Prince (Harry Potter, #6)</td><td>4.54</td><td>275</td><td>202</td><td>1</td></tr>",
                            "<tr><td>Harry Potter and the Half-Blood Prince (Harry Potter, #6)</td><td>4.54</td><td>275</td><td>244</td><td>1</td></tr>",
                            "<tr><td>Harry Potter and the Half-Blood Prince (Harry Potter, #6)</td><td>4.54</td><td>275</td><td>253</td><td>1</td></tr>",
                            "<tr><td>Harry Potter and the Half-Blood Prince (Harry Potter, #6)</td><td>4.54</td><td>275</td><td>350</td><td>1</td></tr>",
                            "<tr><td>Harry Potter and the Half-Blood Prince (Harry Potter, #6)</td><td>4.54</td><td>275</td><td>478</td><td>1</td></tr>",
                            "<tr><td>Harry Potter and the Half-Blood Prince (Harry Potter, #6)</td><td>4.54</td><td>275</td><td>511</td><td>1</td></tr>",
                            "<tr><td>Harry Potter and the Half-Blood Prince (Harry Potter, #6)</td><td>4.54</td><td>275</td><td>525</td><td>1</td></tr>",
                            "<tr><td>Harry Potter and the Half-Blood Prince (Harry Potter, #6)</td><td>4.54</td><td>275</td><td>527</td><td>1</td></tr>",
                            "</table>"
                        ]
                    }
                }
            ],
            "execution_count": 112
        },
        {
            "cell_type": "markdown",
            "source": [
                "## **QUESTION 5:**  Using joins to find the most tagged book and the most popular tag\n",
                "\n",
                "We will be writing 3 queries to find both the most tagged book and that book's most popular tag.\n",
                "\n",
                "**Part A:**  What is the most tagged book?\n",
                "\n",
                "> <span style=\"background-color: rgba(127, 127, 127, 0.1); font-family: -apple-system, BlinkMacSystemFont, sans-serif;\">Start by joining the </span> **books** <span style=\"background-color: rgba(127, 127, 127, 0.1); font-family: -apple-system, BlinkMacSystemFont, sans-serif;\">and </span> **book\\_tags**    <span style=\"background-color: rgba(127, 127, 127, 0.1); font-family: -apple-system, BlinkMacSystemFont, sans-serif;\">&nbsp;tables ON the books.best_book_id and book_tags.goodreads_book_id.&nbsp;&nbsp;<br></span>      <span style=\"background-color: rgba(127, 127, 127, 0.1); font-family: -apple-system, BlinkMacSystemFont, sans-serif;\">We want the <i>most popular</i> book, so think about ordering the table in a way that will display both the book title and the number of times a book tag has been used.</span>\n",
                "> \n",
                "> _MInimum Desired output:_  The title of the most tagged book, and the number of times the book has been tagged.\n",
                "> \n",
                "> **Title: The Alchemist (tagged 596234 times)**\n",
                "\n",
                "**Part B:** How many different tags have been used for the most tagged book?\n",
                "\n",
                "> <span style=\"font-family: -apple-system, BlinkMacSystemFont, sans-serif; background-color: rgba(127, 127, 127, 0.1);\">Start by joining the&nbsp;</span>    **books** <span style=\"font-family: -apple-system, BlinkMacSystemFont, sans-serif; background-color: rgba(127, 127, 127, 0.1);\">and&nbsp;</span>    **book\\_tags**    <span style=\"font-family: -apple-system, BlinkMacSystemFont, sans-serif; background-color: rgba(127, 127, 127, 0.1);\">&nbsp;tables ON the books.best_book_id and book_tags.goodreads_book_id.&nbsp;&nbsp;<br></span>      We want to find the _most popular_ tag id, so think about ordering in a way that will display the most popular tag id.\n",
                "> \n",
                "> <span style=\"font-family: -apple-system, BlinkMacSystemFont, sans-serif; background-color: rgba(127, 127, 127, 0.1);\"><i>Minimum Desired Output:</i> The tag id for the most popular tag used for the most tagged book.&nbsp;</span>   \n",
                "> \n",
                "> <span style=\"font-family: -apple-system, BlinkMacSystemFont, sans-serif; background-color: rgba(127, 127, 127, 0.1);\"><b>Tag Id: The Night Circus&nbsp; with 34251 tag ID</b></span>\n",
                "\n",
                "<span style=\"font-family: -apple-system, BlinkMacSystemFont, sans-serif; background-color: rgba(127, 127, 127, 0.1);\"><b>Part C: </b>What is this particular tag?</span>\n",
                "\n",
                "> You may return this answer with a simple query.\n",
                "\n",
                "> <span style=\"font-family: -apple-system, BlinkMacSystemFont, sans-serif; background-color: rgba(127, 127, 127, 0.1);\"><i>Minimum Desired Output:</i>&nbsp;The tag name for the most popular tag used for the most tagged book.&nbsp;</span>   \n",
                "> \n",
                "> <span style=\"font-family: -apple-system, BlinkMacSystemFont, sans-serif; background-color: rgba(127, 127, 127, 0.1);\"><b>Tag Name: 2017-final</b></span>"
            ],
            "metadata": {
                "azdata_cell_guid": "a685e9cc-2ae2-40e8-8cc1-022c8064d66d"
            },
            "attachments": {}
        },
        {
            "cell_type": "code",
            "source": [
                "-- Code Here:\r\n",
                "--Part 1 Code:\r\n",
                "SELECT TOP 1 b.title, bt.count, bt.tag_id \r\n",
                "FROM BooksDB.dbo.books as b \r\n",
                "INNER JOIN BooksDB.dbo.book_tags as bt \r\n",
                "ON b.best_book_id = bt.goodreads_book_id\r\n",
                "ORDER BY bt.count DESC; \r\n",
                "\r\n",
                "--Part 2 Code:\r\n",
                "SELECT TOP 1 b.title, bt.count, bt.tag_id\r\n",
                "FROM BooksDB.dbo.books as b \r\n",
                "RIGHT JOIN BooksDB.dbo.book_tags as bt \r\n",
                "ON b.best_book_id = bt.goodreads_book_id\r\n",
                "WHERE b.title IS NOT NULL\r\n",
                "ORDER BY bt.tag_id DESC;\r\n",
                "\r\n",
                "--Part 3 Code:\r\n",
                "SELECT TOP 1 b.count, b.tag_id, t.tag_name\r\n",
                "FROM BooksDB.dbo.book_tags as b \r\n",
                "FULL JOIN BooksDB.dbo.tags as t \r\n",
                "ON b.goodreads_book_id = t.tag_id\r\n",
                "WHERE t.tag_name IS NOT NULL\r\n",
                "ORDER BY b.count DESC;"
            ],
            "metadata": {
                "azdata_cell_guid": "de3ac253-6b47-4740-8c6e-5f9d1b0ce36b",
                "language": "sql",
                "tags": []
            },
            "outputs": [
                {
                    "output_type": "display_data",
                    "data": {
                        "text/html": "(1 row affected)"
                    },
                    "metadata": {}
                },
                {
                    "output_type": "display_data",
                    "data": {
                        "text/html": "(1 row affected)"
                    },
                    "metadata": {}
                },
                {
                    "output_type": "display_data",
                    "data": {
                        "text/html": "(1 row affected)"
                    },
                    "metadata": {}
                },
                {
                    "output_type": "display_data",
                    "data": {
                        "text/html": "Total execution time: 00:00:00.721"
                    },
                    "metadata": {}
                },
                {
                    "output_type": "execute_result",
                    "execution_count": 17,
                    "data": {
                        "application/vnd.dataresource+json": {
                            "schema": {
                                "fields": [
                                    {
                                        "name": "title"
                                    },
                                    {
                                        "name": "count"
                                    },
                                    {
                                        "name": "tag_id"
                                    }
                                ]
                            },
                            "data": [
                                {
                                    "0": "The Alchemist",
                                    "1": "596234",
                                    "2": "30574"
                                }
                            ]
                        },
                        "text/html": "<table><tr><th>title</th><th>count</th><th>tag_id</th></tr><tr><td>The Alchemist</td><td>596234</td><td>30574</td></tr></table>"
                    },
                    "metadata": {}
                },
                {
                    "output_type": "execute_result",
                    "execution_count": 17,
                    "data": {
                        "application/vnd.dataresource+json": {
                            "schema": {
                                "fields": [
                                    {
                                        "name": "title"
                                    },
                                    {
                                        "name": "count"
                                    },
                                    {
                                        "name": "tag_id"
                                    }
                                ]
                            },
                            "data": [
                                {
                                    "0": "The Night Circus",
                                    "1": "384",
                                    "2": "34251"
                                }
                            ]
                        },
                        "text/html": "<table><tr><th>title</th><th>count</th><th>tag_id</th></tr><tr><td>The Night Circus</td><td>384</td><td>34251</td></tr></table>"
                    },
                    "metadata": {}
                },
                {
                    "output_type": "execute_result",
                    "execution_count": 17,
                    "data": {
                        "application/vnd.dataresource+json": {
                            "schema": {
                                "fields": [
                                    {
                                        "name": "count"
                                    },
                                    {
                                        "name": "tag_id"
                                    },
                                    {
                                        "name": "tag_name"
                                    }
                                ]
                            },
                            "data": [
                                {
                                    "0": "596234",
                                    "1": "30574",
                                    "2": "2017-final"
                                }
                            ]
                        },
                        "text/html": "<table><tr><th>count</th><th>tag_id</th><th>tag_name</th></tr><tr><td>596234</td><td>30574</td><td>2017-final</td></tr></table>"
                    },
                    "metadata": {}
                }
            ],
            "execution_count": 17
        },
        {
            "cell_type": "markdown",
            "source": [
                "## **QUESTION 6:** Find a book based on a tag of your choice using joins.\n",
                "\n",
                "Some suggestions: any hobbies you like? baking, drawing, etc. how about favorite holidays, subjects, animals, etc?\n",
                "\n",
                "**Part A:** Explore the tags table for a tag of your choice.  Suggested ideas, try searching for one of your hobbies, a favorite time of year, favorite animal, etc.  Start by querying the tag table for your chosen tag.  (_Hint:_ in order to make sure you find all combinations of your tags, use the wildcard).  If your query returns more than one result, pick your favorite.\n",
                "\n",
                "> > _Here is an example.  Alyce wanted to search for halloween books.  She used the wildcard, '%halloween%' and 8 different combinations were found.  Alyce selected '**halloween-storytime**', with a tag id of 13877._\n",
                "\n",
                "> _Minimum Desired Output:_ <span style=\"font-family: -apple-system, BlinkMacSystemFont, sans-serif; background-color: rgba(127, 127, 127, 0.1);\">tag name and tag id</span>\n",
                "\n",
                "> **Your Tag and Tag Id: the-queen-of-mystery with tag id 219**\n",
                "\n",
                "**Part B:** Now that you have the **tag id**, find the title that was tagged the most with this tag by joining the books and books\\_tags tables.\n",
                "\n",
                "> > _Alyce joined the book table with the tags table and discovered that <u>The Little Old Lady Who Was Not Afraid of Anything</u> was tagged as '**halloween-storytime**' the most._\n",
                "\n",
                "> _Minimum Desired Output:_ <span style=\"background-color: rgba(127, 127, 127, 0.1); font-family: -apple-system, BlinkMacSystemFont, sans-serif;\">title and tag count</span>\n",
                "\n",
                "> **Your Title and Number of times the tag was used: Title is Null and number of times it was tagged was 7**"
            ],
            "metadata": {
                "azdata_cell_guid": "df783e7e-3aff-4e63-9edb-f2e729c7d1c8"
            },
            "attachments": {}
        },
        {
            "cell_type": "code",
            "source": [
                "-- Code Here: \r\n",
                "\r\n",
                "--Part A Code:\r\n",
                "SELECT TOP 20 bt.tag_id, t.tag_name\r\n",
                "FROM BooksDB.dbo.book_tags as bt\r\n",
                "FULL JOIN BooksDB.dbo.tags as t \r\n",
                "ON bt.goodreads_book_id = t.tag_id\r\n",
                "WHERE t.tag_name LIKE '%mystery%' AND bt.tag_id IS NOT NULL\r\n",
                "ORDER BY bt.tag_id;\r\n",
                "\r\n",
                "--Part B Code:\r\n",
                "SELECT b.title, t.tag_id, t.count\r\n",
                "FROM BooksDB.dbo.books as b\r\n",
                "RIGHT JOIN BooksDB.dbo.book_tags as t \r\n",
                "ON b.best_book_id = t.tag_id\r\n",
                "WHERE t.tag_id = 219;"
            ],
            "metadata": {
                "azdata_cell_guid": "c4b0b67c-7cfa-4f52-be97-ffe5cc28ed54",
                "tags": [],
                "language": "sql"
            },
            "outputs": [
                {
                    "output_type": "display_data",
                    "data": {
                        "text/html": "(20 rows affected)"
                    },
                    "metadata": {}
                },
                {
                    "output_type": "display_data",
                    "data": {
                        "text/html": "(14 rows affected)"
                    },
                    "metadata": {}
                },
                {
                    "output_type": "display_data",
                    "data": {
                        "text/html": "Total execution time: 00:00:00.247"
                    },
                    "metadata": {}
                },
                {
                    "output_type": "execute_result",
                    "metadata": {},
                    "execution_count": 111,
                    "data": {
                        "application/vnd.dataresource+json": {
                            "schema": {
                                "fields": [
                                    {
                                        "name": "tag_id"
                                    },
                                    {
                                        "name": "tag_name"
                                    }
                                ]
                            },
                            "data": [
                                {
                                    "0": "219",
                                    "1": "the-queen-of-mystery"
                                },
                                {
                                    "0": "236",
                                    "1": "canadian-mystery"
                                },
                                {
                                    "0": "240",
                                    "1": "canadian-mystery"
                                },
                                {
                                    "0": "248",
                                    "1": "canadian-mystery"
                                },
                                {
                                    "0": "251",
                                    "1": "canadian-mystery"
                                },
                                {
                                    "0": "254",
                                    "1": "canadian-mystery"
                                },
                                {
                                    "0": "261",
                                    "1": "canadian-mystery"
                                },
                                {
                                    "0": "461",
                                    "1": "the-queen-of-mystery"
                                },
                                {
                                    "0": "487",
                                    "1": "chick-lit-mystery"
                                },
                                {
                                    "0": "487",
                                    "1": "canadian-mystery"
                                },
                                {
                                    "0": "923",
                                    "1": "canadian-mystery"
                                },
                                {
                                    "0": "923",
                                    "1": "chick-lit-mystery"
                                },
                                {
                                    "0": "923",
                                    "1": "the-queen-of-mystery"
                                },
                                {
                                    "0": "1145",
                                    "1": "the-queen-of-mystery"
                                },
                                {
                                    "0": "1416",
                                    "1": "the-queen-of-mystery"
                                },
                                {
                                    "0": "1416",
                                    "1": "mystery-thriller-and-suspense"
                                },
                                {
                                    "0": "1416",
                                    "1": "chick-lit-mystery"
                                },
                                {
                                    "0": "1642",
                                    "1": "chick-lit-mystery"
                                },
                                {
                                    "0": "1642",
                                    "1": "the-queen-of-mystery"
                                },
                                {
                                    "0": "1642",
                                    "1": "canadian-mystery"
                                }
                            ]
                        },
                        "text/html": [
                            "<table>",
                            "<tr><th>tag_id</th><th>tag_name</th></tr>",
                            "<tr><td>219</td><td>the-queen-of-mystery</td></tr>",
                            "<tr><td>236</td><td>canadian-mystery</td></tr>",
                            "<tr><td>240</td><td>canadian-mystery</td></tr>",
                            "<tr><td>248</td><td>canadian-mystery</td></tr>",
                            "<tr><td>251</td><td>canadian-mystery</td></tr>",
                            "<tr><td>254</td><td>canadian-mystery</td></tr>",
                            "<tr><td>261</td><td>canadian-mystery</td></tr>",
                            "<tr><td>461</td><td>the-queen-of-mystery</td></tr>",
                            "<tr><td>487</td><td>chick-lit-mystery</td></tr>",
                            "<tr><td>487</td><td>canadian-mystery</td></tr>",
                            "<tr><td>923</td><td>canadian-mystery</td></tr>",
                            "<tr><td>923</td><td>chick-lit-mystery</td></tr>",
                            "<tr><td>923</td><td>the-queen-of-mystery</td></tr>",
                            "<tr><td>1145</td><td>the-queen-of-mystery</td></tr>",
                            "<tr><td>1416</td><td>the-queen-of-mystery</td></tr>",
                            "<tr><td>1416</td><td>mystery-thriller-and-suspense</td></tr>",
                            "<tr><td>1416</td><td>chick-lit-mystery</td></tr>",
                            "<tr><td>1642</td><td>chick-lit-mystery</td></tr>",
                            "<tr><td>1642</td><td>the-queen-of-mystery</td></tr>",
                            "<tr><td>1642</td><td>canadian-mystery</td></tr>",
                            "</table>"
                        ]
                    }
                },
                {
                    "output_type": "execute_result",
                    "metadata": {},
                    "execution_count": 111,
                    "data": {
                        "application/vnd.dataresource+json": {
                            "schema": {
                                "fields": [
                                    {
                                        "name": "title"
                                    },
                                    {
                                        "name": "tag_id"
                                    },
                                    {
                                        "name": "count"
                                    }
                                ]
                            },
                            "data": [
                                {
                                    "0": "NULL",
                                    "1": "219",
                                    "2": "7"
                                },
                                {
                                    "0": "NULL",
                                    "1": "219",
                                    "2": "7"
                                },
                                {
                                    "0": "NULL",
                                    "1": "219",
                                    "2": "7"
                                },
                                {
                                    "0": "NULL",
                                    "1": "219",
                                    "2": "7"
                                },
                                {
                                    "0": "NULL",
                                    "1": "219",
                                    "2": "7"
                                },
                                {
                                    "0": "NULL",
                                    "1": "219",
                                    "2": "7"
                                },
                                {
                                    "0": "NULL",
                                    "1": "219",
                                    "2": "7"
                                },
                                {
                                    "0": "NULL",
                                    "1": "219",
                                    "2": "7"
                                },
                                {
                                    "0": "NULL",
                                    "1": "219",
                                    "2": "7"
                                },
                                {
                                    "0": "NULL",
                                    "1": "219",
                                    "2": "7"
                                },
                                {
                                    "0": "NULL",
                                    "1": "219",
                                    "2": "7"
                                },
                                {
                                    "0": "NULL",
                                    "1": "219",
                                    "2": "7"
                                },
                                {
                                    "0": "NULL",
                                    "1": "219",
                                    "2": "7"
                                },
                                {
                                    "0": "NULL",
                                    "1": "219",
                                    "2": "6"
                                }
                            ]
                        },
                        "text/html": [
                            "<table>",
                            "<tr><th>title</th><th>tag_id</th><th>count</th></tr>",
                            "<tr><td>NULL</td><td>219</td><td>7</td></tr>",
                            "<tr><td>NULL</td><td>219</td><td>7</td></tr>",
                            "<tr><td>NULL</td><td>219</td><td>7</td></tr>",
                            "<tr><td>NULL</td><td>219</td><td>7</td></tr>",
                            "<tr><td>NULL</td><td>219</td><td>7</td></tr>",
                            "<tr><td>NULL</td><td>219</td><td>7</td></tr>",
                            "<tr><td>NULL</td><td>219</td><td>7</td></tr>",
                            "<tr><td>NULL</td><td>219</td><td>7</td></tr>",
                            "<tr><td>NULL</td><td>219</td><td>7</td></tr>",
                            "<tr><td>NULL</td><td>219</td><td>7</td></tr>",
                            "<tr><td>NULL</td><td>219</td><td>7</td></tr>",
                            "<tr><td>NULL</td><td>219</td><td>7</td></tr>",
                            "<tr><td>NULL</td><td>219</td><td>7</td></tr>",
                            "<tr><td>NULL</td><td>219</td><td>6</td></tr>",
                            "</table>"
                        ]
                    }
                }
            ],
            "execution_count": 111
        },
        {
            "cell_type": "markdown",
            "source": [
                "## **QUESTION 7:** What are the top 10 most popular book titles on the 'to read' list?\n",
                "\n",
                "**Part A:**  Explore how the **to\\_read** and **books** tables are organized, and then join them.  What will you use as a key?\n",
                "\n",
                "> Your Answer: I will use best\\_book\\_id from boks and book\\_id from to\\_read\n",
                "\n",
                "**Part B:** Organize your newly joined table in a way that groups popularity based on the title based on users.\n",
                "\n",
                "> _Hint:_ Suggest using an alias for the aggregation you will need to run on the **user\\_id**\n",
                "\n",
                "> _Minimum Desired Output:_ title and aliased column"
            ],
            "metadata": {
                "azdata_cell_guid": "4e5349b7-24f6-481a-9d88-bb4f86abc624"
            },
            "attachments": {}
        },
        {
            "cell_type": "code",
            "source": [
                "-- Code Here:\r\n",
                "--SELECT COUNT(*) AS 'number of users' FROM BooksDB.dbo.to_read GROUP BY user_id ORDER BY user_id; \r\n",
                "--SELECT best_book_id, books_count, title, average_rating FROM BooksDB.dbo.books ORDER BY best_book_id;\r\n",
                "\r\n",
                "SELECT TOP 10 b.title AS 'Book Title', COUNT(tr.user_id) AS 'Count of Individual Readers'\r\n",
                "FROM BooksDB.dbo.to_read AS tr\r\n",
                "INNER JOIN BooksDB.dbo.books AS b ON tr.book_id = b.best_book_id\r\n",
                "GROUP BY b.title\r\n",
                "ORDER BY COUNT(tr.user_id) DESC; \r\n",
                "\r\n",
                ""
            ],
            "metadata": {
                "azdata_cell_guid": "8af25df1-ce61-4152-8198-0b53c17642d0",
                "language": "sql"
            },
            "outputs": [
                {
                    "output_type": "display_data",
                    "data": {
                        "text/html": "(10 rows affected)"
                    },
                    "metadata": {}
                },
                {
                    "output_type": "display_data",
                    "data": {
                        "text/html": "Total execution time: 00:00:00.170"
                    },
                    "metadata": {}
                },
                {
                    "output_type": "execute_result",
                    "metadata": {},
                    "execution_count": 97,
                    "data": {
                        "application/vnd.dataresource+json": {
                            "schema": {
                                "fields": [
                                    {
                                        "name": "Book Title"
                                    },
                                    {
                                        "name": "Count of Individual Readers"
                                    }
                                ]
                            },
                            "data": [
                                {
                                    "0": "The Ultimate Hitchhiker's Guide to the Galaxy",
                                    "1": "1812"
                                },
                                {
                                    "0": "The Lord of the Rings: The Art of The Fellowship of the Ring",
                                    "1": "1499"
                                },
                                {
                                    "0": "Harry Potter Boxed Set, Books 1-5 (Harry Potter, #1-5)",
                                    "1": "1498"
                                },
                                {
                                    "0": "Harry Potter and the Goblet of Fire (Harry Potter, #4)",
                                    "1": "1484"
                                },
                                {
                                    "0": "The Known World",
                                    "1": "1352"
                                },
                                {
                                    "0": "Harry Potter and the Prisoner of Azkaban (Harry Potter, #3)",
                                    "1": "1293"
                                },
                                {
                                    "0": "The Lord of the Rings: Weapons and Warfare",
                                    "1": "1211"
                                },
                                {
                                    "0": "Notes from a Small Island",
                                    "1": "1148"
                                },
                                {
                                    "0": "Harry Potter Collection (Harry Potter, #1-6)",
                                    "1": "1110"
                                },
                                {
                                    "0": "The Lord of the Rings (The Lord of the Rings, #1-3)",
                                    "1": "1094"
                                }
                            ]
                        },
                        "text/html": [
                            "<table>",
                            "<tr><th>Book Title</th><th>Count of Individual Readers</th></tr>",
                            "<tr><td>The Ultimate Hitchhiker's Guide to the Galaxy</td><td>1812</td></tr>",
                            "<tr><td>The Lord of the Rings: The Art of The Fellowship of the Ring</td><td>1499</td></tr>",
                            "<tr><td>Harry Potter Boxed Set, Books 1-5 (Harry Potter, #1-5)</td><td>1498</td></tr>",
                            "<tr><td>Harry Potter and the Goblet of Fire (Harry Potter, #4)</td><td>1484</td></tr>",
                            "<tr><td>The Known World</td><td>1352</td></tr>",
                            "<tr><td>Harry Potter and the Prisoner of Azkaban (Harry Potter, #3)</td><td>1293</td></tr>",
                            "<tr><td>The Lord of the Rings: Weapons and Warfare</td><td>1211</td></tr>",
                            "<tr><td>Notes from a Small Island</td><td>1148</td></tr>",
                            "<tr><td>Harry Potter Collection (Harry Potter, #1-6)</td><td>1110</td></tr>",
                            "<tr><td>The Lord of the Rings (The Lord of the Rings, #1-3)</td><td>1094</td></tr>",
                            "</table>"
                        ]
                    }
                }
            ],
            "execution_count": 97
        },
        {
            "cell_type": "markdown",
            "source": [
                "## **QUESTION 8:** Largest 'To Read' Lists\n",
                "\n",
                "**Part A:**  Create a query that returns a table that contains the top 10 users with the most number of titles on their 'to read' list.    Group all the entries by user\\_id.  \n",
                "\n",
                "> _Hint:_ You might want an alias for the titles.\n",
                "> \n",
                "> _Minimum Desired Output:_  user\\_id and your aliased column of titles.\n",
                "\n",
                "**Part B:**  The longest list length is 15 titles total, and is shared by 4 different users.  Select one of the uses and print out their entire '**to read**' list."
            ],
            "metadata": {
                "azdata_cell_guid": "0b0090b0-2b28-44c6-8bb6-06b4c03c3ff1"
            },
            "attachments": {}
        },
        {
            "cell_type": "code",
            "source": [
                "-- Code Here:\r\n",
                "SELECT TOP 10 tr.user_id AS 'Top Users (ID Num)', COUNT(b.title) AS 'Num of Books to Read'\r\n",
                "FROM BooksDB.dbo.books as b \r\n",
                "INNER JOIN BooksDB.dbo.to_read AS tr ON tr.book_id = b.best_book_id\r\n",
                "GROUP BY tr.user_id\r\n",
                "ORDER BY COUNT(b.title) DESC; \r\n",
                "\r\n",
                "SELECT tr.user_id, b.title\r\n",
                "FROM BooksDB.dbo.to_read AS tr\r\n",
                "INNER JOIN BooksDB.dbo.books AS b ON tr.book_id = b.best_book_id \r\n",
                "WHERE tr.user_id = '14771'"
            ],
            "metadata": {
                "azdata_cell_guid": "c6c815f8-890d-4163-be63-3d300e320597",
                "tags": [],
                "language": "sql"
            },
            "outputs": [
                {
                    "output_type": "display_data",
                    "data": {
                        "text/html": "(10 rows affected)"
                    },
                    "metadata": {}
                },
                {
                    "output_type": "display_data",
                    "data": {
                        "text/html": "(15 rows affected)"
                    },
                    "metadata": {}
                },
                {
                    "output_type": "display_data",
                    "data": {
                        "text/html": "Total execution time: 00:00:00.222"
                    },
                    "metadata": {}
                },
                {
                    "output_type": "execute_result",
                    "metadata": {},
                    "execution_count": 110,
                    "data": {
                        "application/vnd.dataresource+json": {
                            "schema": {
                                "fields": [
                                    {
                                        "name": "Top Users (ID Num)"
                                    },
                                    {
                                        "name": "Num of Books to Read"
                                    }
                                ]
                            },
                            "data": [
                                {
                                    "0": "14771",
                                    "1": "15"
                                },
                                {
                                    "0": "38201",
                                    "1": "15"
                                },
                                {
                                    "0": "11932",
                                    "1": "15"
                                },
                                {
                                    "0": "12483",
                                    "1": "15"
                                },
                                {
                                    "0": "27933",
                                    "1": "14"
                                },
                                {
                                    "0": "36923",
                                    "1": "14"
                                },
                                {
                                    "0": "37359",
                                    "1": "14"
                                },
                                {
                                    "0": "6772",
                                    "1": "13"
                                },
                                {
                                    "0": "51137",
                                    "1": "13"
                                },
                                {
                                    "0": "42636",
                                    "1": "13"
                                }
                            ]
                        },
                        "text/html": [
                            "<table>",
                            "<tr><th>Top Users (ID Num)</th><th>Num of Books to Read</th></tr>",
                            "<tr><td>14771</td><td>15</td></tr>",
                            "<tr><td>38201</td><td>15</td></tr>",
                            "<tr><td>11932</td><td>15</td></tr>",
                            "<tr><td>12483</td><td>15</td></tr>",
                            "<tr><td>27933</td><td>14</td></tr>",
                            "<tr><td>36923</td><td>14</td></tr>",
                            "<tr><td>37359</td><td>14</td></tr>",
                            "<tr><td>6772</td><td>13</td></tr>",
                            "<tr><td>51137</td><td>13</td></tr>",
                            "<tr><td>42636</td><td>13</td></tr>",
                            "</table>"
                        ]
                    }
                },
                {
                    "output_type": "execute_result",
                    "metadata": {},
                    "execution_count": 110,
                    "data": {
                        "application/vnd.dataresource+json": {
                            "schema": {
                                "fields": [
                                    {
                                        "name": "user_id"
                                    },
                                    {
                                        "name": "title"
                                    }
                                ]
                            },
                            "data": [
                                {
                                    "0": "14771",
                                    "1": "The Fellowship of the Ring (The Lord of the Rings, #1)"
                                },
                                {
                                    "0": "14771",
                                    "1": "Harry Potter and the Order of the Phoenix (Harry Potter, #5)"
                                },
                                {
                                    "0": "14771",
                                    "1": "Harry Potter and the Goblet of Fire (Harry Potter, #4)"
                                },
                                {
                                    "0": "14771",
                                    "1": "J.R.R. Tolkien 4-Book Boxed Set: The Hobbit and The Lord of the Rings"
                                },
                                {
                                    "0": "14771",
                                    "1": "In a Sunburned Country"
                                },
                                {
                                    "0": "14771",
                                    "1": "A Widow for One Year"
                                },
                                {
                                    "0": "14771",
                                    "1": "Tropic of Cancer"
                                },
                                {
                                    "0": "14771",
                                    "1": "The Iliad/The Odyssey"
                                },
                                {
                                    "0": "14771",
                                    "1": "The Lost Continent: Travels in Small Town America"
                                },
                                {
                                    "0": "14771",
                                    "1": "The New York Trilogy"
                                },
                                {
                                    "0": "14771",
                                    "1": "The Lord of the Rings: The Art of The Fellowship of the Ring"
                                },
                                {
                                    "0": "14771",
                                    "1": "The Known World"
                                },
                                {
                                    "0": "14771",
                                    "1": "Ten Apples Up On Top!"
                                },
                                {
                                    "0": "14771",
                                    "1": "Leviathan"
                                },
                                {
                                    "0": "14771",
                                    "1": "What to Expect the First Year (What to Expect)"
                                }
                            ]
                        },
                        "text/html": [
                            "<table>",
                            "<tr><th>user_id</th><th>title</th></tr>",
                            "<tr><td>14771</td><td>The Fellowship of the Ring (The Lord of the Rings, #1)</td></tr>",
                            "<tr><td>14771</td><td>Harry Potter and the Order of the Phoenix (Harry Potter, #5)</td></tr>",
                            "<tr><td>14771</td><td>Harry Potter and the Goblet of Fire (Harry Potter, #4)</td></tr>",
                            "<tr><td>14771</td><td>J.R.R. Tolkien 4-Book Boxed Set: The Hobbit and The Lord of the Rings</td></tr>",
                            "<tr><td>14771</td><td>In a Sunburned Country</td></tr>",
                            "<tr><td>14771</td><td>A Widow for One Year</td></tr>",
                            "<tr><td>14771</td><td>Tropic of Cancer</td></tr>",
                            "<tr><td>14771</td><td>The Iliad/The Odyssey</td></tr>",
                            "<tr><td>14771</td><td>The Lost Continent: Travels in Small Town America</td></tr>",
                            "<tr><td>14771</td><td>The New York Trilogy</td></tr>",
                            "<tr><td>14771</td><td>The Lord of the Rings: The Art of The Fellowship of the Ring</td></tr>",
                            "<tr><td>14771</td><td>The Known World</td></tr>",
                            "<tr><td>14771</td><td>Ten Apples Up On Top!</td></tr>",
                            "<tr><td>14771</td><td>Leviathan</td></tr>",
                            "<tr><td>14771</td><td>What to Expect the First Year (What to Expect)</td></tr>",
                            "</table>"
                        ]
                    }
                }
            ],
            "execution_count": 110
        }
    ]
}